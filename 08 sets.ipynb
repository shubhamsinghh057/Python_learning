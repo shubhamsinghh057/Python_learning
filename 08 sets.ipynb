{
 "cells": [
  {
   "cell_type": "code",
   "execution_count": 9,
   "id": "a6969512-6348-4a98-89a7-db5dc348f084",
   "metadata": {},
   "outputs": [],
   "source": [
    "a = {1,1,1,2,6,6,5}"
   ]
  },
  {
   "cell_type": "code",
   "execution_count": 10,
   "id": "6bef156e-c63a-4896-845d-55709c829fff",
   "metadata": {},
   "outputs": [
    {
     "data": {
      "text/plain": [
       "{1, 2, 5, 6}"
      ]
     },
     "execution_count": 10,
     "metadata": {},
     "output_type": "execute_result"
    }
   ],
   "source": [
    "a"
   ]
  },
  {
   "cell_type": "code",
   "execution_count": 11,
   "id": "d798debf-c6a1-460f-accc-0520493eb08a",
   "metadata": {},
   "outputs": [
    {
     "data": {
      "text/plain": [
       "{'shubham'}"
      ]
     },
     "execution_count": 11,
     "metadata": {},
     "output_type": "execute_result"
    }
   ],
   "source": [
    "{\"shubham\", \"shubham\"}"
   ]
  },
  {
   "cell_type": "code",
   "execution_count": 12,
   "id": "2087c1d6-b477-46b2-bdf5-c71508021c1b",
   "metadata": {},
   "outputs": [],
   "source": [
    "a = {1,2,3}"
   ]
  },
  {
   "cell_type": "code",
   "execution_count": 13,
   "id": "89cfdfd5-54c4-49ef-a3e5-3b2394495ac2",
   "metadata": {},
   "outputs": [],
   "source": [
    "b= {2,3}"
   ]
  },
  {
   "cell_type": "code",
   "execution_count": 14,
   "id": "d5422628-738f-4b68-b9c6-9a0c1eb60f1b",
   "metadata": {},
   "outputs": [
    {
     "data": {
      "text/plain": [
       "True"
      ]
     },
     "execution_count": 14,
     "metadata": {},
     "output_type": "execute_result"
    }
   ],
   "source": [
    "a.issuperset(b)"
   ]
  },
  {
   "cell_type": "code",
   "execution_count": 15,
   "id": "d90ff200-86a7-42d9-ab54-b2c7d72a7e77",
   "metadata": {},
   "outputs": [
    {
     "data": {
      "text/plain": [
       "True"
      ]
     },
     "execution_count": 15,
     "metadata": {},
     "output_type": "execute_result"
    }
   ],
   "source": [
    "b.issubset(a)"
   ]
  },
  {
   "cell_type": "code",
   "execution_count": 16,
   "id": "1b71daef-50fa-49aa-a21c-709313cb68c2",
   "metadata": {},
   "outputs": [
    {
     "data": {
      "text/plain": [
       "False"
      ]
     },
     "execution_count": 16,
     "metadata": {},
     "output_type": "execute_result"
    }
   ],
   "source": [
    "a.issubset(b)"
   ]
  },
  {
   "cell_type": "code",
   "execution_count": 17,
   "id": "9c693480-86c9-4008-9ea6-b562ef7dbdb1",
   "metadata": {},
   "outputs": [],
   "source": [
    "a = {1,2,3}"
   ]
  },
  {
   "cell_type": "code",
   "execution_count": 18,
   "id": "c7766932-0deb-4352-b63c-11b3c893e84d",
   "metadata": {},
   "outputs": [],
   "source": [
    "b = {3,4,5}"
   ]
  },
  {
   "cell_type": "code",
   "execution_count": 19,
   "id": "dc684677-6a82-4b45-9264-2d53731f6f16",
   "metadata": {},
   "outputs": [
    {
     "data": {
      "text/plain": [
       "{1, 2, 3, 4, 5}"
      ]
     },
     "execution_count": 19,
     "metadata": {},
     "output_type": "execute_result"
    }
   ],
   "source": [
    "a.union(b)"
   ]
  },
  {
   "cell_type": "code",
   "execution_count": 20,
   "id": "9472e818-2f11-4515-9ea5-d52f57629aa2",
   "metadata": {},
   "outputs": [
    {
     "data": {
      "text/plain": [
       "{3}"
      ]
     },
     "execution_count": 20,
     "metadata": {},
     "output_type": "execute_result"
    }
   ],
   "source": [
    "a.intersection(b)"
   ]
  },
  {
   "cell_type": "code",
   "execution_count": 21,
   "id": "e4a68b97-e4ff-4eb4-9b66-37203c97e252",
   "metadata": {},
   "outputs": [
    {
     "data": {
      "text/plain": [
       "{1, 2}"
      ]
     },
     "execution_count": 21,
     "metadata": {},
     "output_type": "execute_result"
    }
   ],
   "source": [
    "a.difference(b)"
   ]
  },
  {
   "cell_type": "code",
   "execution_count": 22,
   "id": "d0205794-3860-41b2-963c-2a618fb99f9b",
   "metadata": {},
   "outputs": [
    {
     "data": {
      "text/plain": [
       "{4, 5}"
      ]
     },
     "execution_count": 22,
     "metadata": {},
     "output_type": "execute_result"
    }
   ],
   "source": [
    "b.difference(a)"
   ]
  },
  {
   "cell_type": "code",
   "execution_count": 23,
   "id": "70be9371-d88b-4100-ac71-0d62530c45c7",
   "metadata": {},
   "outputs": [],
   "source": [
    "data = {\n",
    "    \"info\": [12, 34.5, \"hello\", {\"key\": [1, 2, 3, \"world\"]}]\n",
    "}\n"
   ]
  },
  {
   "cell_type": "code",
   "execution_count": 25,
   "id": "42cccc78-31da-40cd-aa56-ec6585603edb",
   "metadata": {},
   "outputs": [
    {
     "data": {
      "text/plain": [
       "dict"
      ]
     },
     "execution_count": 25,
     "metadata": {},
     "output_type": "execute_result"
    }
   ],
   "source": [
    "type(data)"
   ]
  },
  {
   "cell_type": "code",
   "execution_count": 26,
   "id": "62b72728-e89b-4663-acb3-a38ec0fe34f9",
   "metadata": {},
   "outputs": [
    {
     "data": {
      "text/plain": [
       "dict_keys(['info'])"
      ]
     },
     "execution_count": 26,
     "metadata": {},
     "output_type": "execute_result"
    }
   ],
   "source": [
    "data.keys()"
   ]
  },
  {
   "cell_type": "code",
   "execution_count": 30,
   "id": "2e56bbbb-e13d-4360-b857-35a9c2d4ccdf",
   "metadata": {},
   "outputs": [
    {
     "data": {
      "text/plain": [
       "'hello'"
      ]
     },
     "execution_count": 30,
     "metadata": {},
     "output_type": "execute_result"
    }
   ],
   "source": [
    "data['info'][2]"
   ]
  },
  {
   "cell_type": "code",
   "execution_count": null,
   "id": "ba833728-6733-4778-98b9-51bae428f1f6",
   "metadata": {},
   "outputs": [],
   "source": [
    "data['i']"
   ]
  },
  {
   "cell_type": "code",
   "execution_count": null,
   "id": "79fe94c0-412c-4530-af0e-a2a49e84ea67",
   "metadata": {},
   "outputs": [],
   "source": []
  }
 ],
 "metadata": {
  "kernelspec": {
   "display_name": "Python 3 (ipykernel)",
   "language": "python",
   "name": "python3"
  },
  "language_info": {
   "codemirror_mode": {
    "name": "ipython",
    "version": 3
   },
   "file_extension": ".py",
   "mimetype": "text/x-python",
   "name": "python",
   "nbconvert_exporter": "python",
   "pygments_lexer": "ipython3",
   "version": "3.12.7"
  }
 },
 "nbformat": 4,
 "nbformat_minor": 5
}

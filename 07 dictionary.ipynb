{
 "cells": [
  {
   "cell_type": "code",
   "execution_count": 1,
   "id": "d46d38c7-a27a-4285-b9b3-b34ab4f190dc",
   "metadata": {},
   "outputs": [],
   "source": [
    "# dictionary"
   ]
  },
  {
   "cell_type": "code",
   "execution_count": 7,
   "id": "e057e3a5-d971-424d-863a-2af833a96f21",
   "metadata": {},
   "outputs": [],
   "source": [
    "d = {\"name\": \"Shubham\", \"age\": 24, \"education\": \"B.tech\"}"
   ]
  },
  {
   "cell_type": "code",
   "execution_count": 4,
   "id": "a4f01030-530d-46fe-8879-ad325b133bce",
   "metadata": {},
   "outputs": [
    {
     "data": {
      "text/plain": [
       "{'name': 'Shubham', 'age': 24, 'education': 'B.tech'}"
      ]
     },
     "execution_count": 4,
     "metadata": {},
     "output_type": "execute_result"
    }
   ],
   "source": [
    "d"
   ]
  },
  {
   "cell_type": "code",
   "execution_count": 6,
   "id": "baae80c8-5c7c-453f-862e-293c9ebf466c",
   "metadata": {},
   "outputs": [
    {
     "data": {
      "text/plain": [
       "3"
      ]
     },
     "execution_count": 6,
     "metadata": {},
     "output_type": "execute_result"
    }
   ],
   "source": [
    "len(d)"
   ]
  },
  {
   "cell_type": "code",
   "execution_count": 8,
   "id": "6f7f77b9-7a35-4a16-8fb8-631b0a8a312e",
   "metadata": {},
   "outputs": [
    {
     "data": {
      "text/plain": [
       "dict_keys(['name', 'age', 'education'])"
      ]
     },
     "execution_count": 8,
     "metadata": {},
     "output_type": "execute_result"
    }
   ],
   "source": [
    "d.keys()"
   ]
  },
  {
   "cell_type": "code",
   "execution_count": 9,
   "id": "aa417918-a593-429d-924b-d2faa425c6b2",
   "metadata": {},
   "outputs": [
    {
     "data": {
      "text/plain": [
       "dict_values(['Shubham', 24, 'B.tech'])"
      ]
     },
     "execution_count": 9,
     "metadata": {},
     "output_type": "execute_result"
    }
   ],
   "source": [
    "d.values()"
   ]
  },
  {
   "cell_type": "code",
   "execution_count": 12,
   "id": "20f2699b-8999-4a8c-8fe6-7a2bffdc16d0",
   "metadata": {},
   "outputs": [
    {
     "data": {
      "text/plain": [
       "'B.tech'"
      ]
     },
     "execution_count": 12,
     "metadata": {},
     "output_type": "execute_result"
    }
   ],
   "source": [
    "d['education']"
   ]
  },
  {
   "cell_type": "code",
   "execution_count": null,
   "id": "80ea84b8-3532-4c69-92a1-e3638b281c90",
   "metadata": {},
   "outputs": [],
   "source": []
  },
  {
   "cell_type": "code",
   "execution_count": null,
   "id": "996bbf67-6e6f-4165-adac-c9365ea7755a",
   "metadata": {},
   "outputs": [],
   "source": []
  },
  {
   "cell_type": "code",
   "execution_count": 15,
   "id": "d1d64892-2ce8-4c03-ae39-6f74785383c0",
   "metadata": {},
   "outputs": [],
   "source": [
    "di = {\"name\": \"Jack\", \"age\": 50, \"education\": \"B.Sc\"}"
   ]
  },
  {
   "cell_type": "code",
   "execution_count": 16,
   "id": "02397995-a611-437c-bcde-ab49e617f766",
   "metadata": {},
   "outputs": [
    {
     "data": {
      "text/plain": [
       "3"
      ]
     },
     "execution_count": 16,
     "metadata": {},
     "output_type": "execute_result"
    }
   ],
   "source": [
    "len(di)"
   ]
  },
  {
   "cell_type": "code",
   "execution_count": 22,
   "id": "176999be-ad7a-4730-ba3e-497f17245936",
   "metadata": {},
   "outputs": [],
   "source": [
    "di[\"wife\"] = \"Mona\""
   ]
  },
  {
   "cell_type": "code",
   "execution_count": 23,
   "id": "65b668dd-3b2e-4f28-a1f8-86ee041e46f6",
   "metadata": {
    "scrolled": true
   },
   "outputs": [
    {
     "data": {
      "text/plain": [
       "{'name': 'Jack', 'age': 50, 'education': 'B.Sc', 'wife': 'Mona'}"
      ]
     },
     "execution_count": 23,
     "metadata": {},
     "output_type": "execute_result"
    }
   ],
   "source": [
    "di"
   ]
  },
  {
   "cell_type": "code",
   "execution_count": 24,
   "id": "edf0705b-d3b1-40b5-babf-ed6b8c4fd071",
   "metadata": {},
   "outputs": [],
   "source": [
    "# keys can only have Sting or int"
   ]
  },
  {
   "cell_type": "code",
   "execution_count": 25,
   "id": "9b61c3bc-7b55-4c86-8227-a53901cac454",
   "metadata": {},
   "outputs": [
    {
     "data": {
      "text/plain": [
       "{1: 'Shubham', 2: 'abhi', 3: 'akash'}"
      ]
     },
     "execution_count": 25,
     "metadata": {},
     "output_type": "execute_result"
    }
   ],
   "source": [
    "{1: \"Shubham\", 2: \"abhi\", 3: \"akash\"}"
   ]
  },
  {
   "cell_type": "code",
   "execution_count": 27,
   "id": "426e9278-40fc-4e76-bd93-d5bcbf0ef5b8",
   "metadata": {},
   "outputs": [],
   "source": [
    "di = {1: {\"name\": \"Shubham\", \"age\": 24}, 2: {\"name\":\"abhi\", \"age\": 20}, 3: {\"name\":\"akash\", \"age\": 20, \"dogs\": [\"pehlakutta\", \"dosrakutta\", \"teesraKutta\"]}}"
   ]
  },
  {
   "cell_type": "code",
   "execution_count": 29,
   "id": "309c8c75-33fd-4bbb-a21c-3033095296b3",
   "metadata": {},
   "outputs": [
    {
     "data": {
      "text/plain": [
       "3"
      ]
     },
     "execution_count": 29,
     "metadata": {},
     "output_type": "execute_result"
    }
   ],
   "source": [
    "len(di)"
   ]
  },
  {
   "cell_type": "code",
   "execution_count": 31,
   "id": "24786db8-1e46-4f65-921d-9a7befe68d99",
   "metadata": {},
   "outputs": [
    {
     "data": {
      "text/plain": [
       "dict_keys([1, 2, 3])"
      ]
     },
     "execution_count": 31,
     "metadata": {},
     "output_type": "execute_result"
    }
   ],
   "source": [
    "di.keys()"
   ]
  },
  {
   "cell_type": "code",
   "execution_count": 36,
   "id": "eeda9045-392c-4f5c-8269-f3f210b9ccc9",
   "metadata": {},
   "outputs": [],
   "source": [
    "di[1]['education'] = \"b.tech\""
   ]
  },
  {
   "cell_type": "code",
   "execution_count": 37,
   "id": "b1a1cbc7-cb8f-4dc8-8577-d8dca6558a96",
   "metadata": {},
   "outputs": [
    {
     "data": {
      "text/plain": [
       "{1: {'name': 'Shubham', 'age': 24, 'education': 'b.tech'},\n",
       " 2: {'name': 'abhi', 'age': 20},\n",
       " 3: {'name': 'akash',\n",
       "  'age': 20,\n",
       "  'dogs': ['pehlakutta', 'dosrakutta', 'teesraKutta']}}"
      ]
     },
     "execution_count": 37,
     "metadata": {},
     "output_type": "execute_result"
    }
   ],
   "source": [
    "di"
   ]
  },
  {
   "cell_type": "code",
   "execution_count": 38,
   "id": "638bda45-2c45-442b-b092-7c034d01f1c5",
   "metadata": {},
   "outputs": [
    {
     "data": {
      "text/plain": [
       "dict"
      ]
     },
     "execution_count": 38,
     "metadata": {},
     "output_type": "execute_result"
    }
   ],
   "source": [
    "type(di)"
   ]
  },
  {
   "cell_type": "code",
   "execution_count": 39,
   "id": "7e699bf7-d839-49df-a009-28a2f0c2f5d0",
   "metadata": {},
   "outputs": [
    {
     "data": {
      "text/plain": [
       "{'name': 'Shubham', 'age': 24, 'education': 'B.tech'}"
      ]
     },
     "execution_count": 39,
     "metadata": {},
     "output_type": "execute_result"
    }
   ],
   "source": [
    "d"
   ]
  },
  {
   "cell_type": "code",
   "execution_count": 42,
   "id": "949fcefd-7a7c-4ee2-a600-c660a6b269a0",
   "metadata": {},
   "outputs": [],
   "source": [
    "d['name'] = \"Abhi\""
   ]
  },
  {
   "cell_type": "code",
   "execution_count": 48,
   "id": "53c84363-427f-49c2-a8c9-baee404f30ec",
   "metadata": {},
   "outputs": [
    {
     "data": {
      "text/plain": [
       "dict_keys([1, 2, 3])"
      ]
     },
     "execution_count": 48,
     "metadata": {},
     "output_type": "execute_result"
    }
   ],
   "source": [
    "di.keys()"
   ]
  },
  {
   "cell_type": "code",
   "execution_count": 50,
   "id": "32887eca-2450-429a-aa2f-efb34d8a7aa6",
   "metadata": {},
   "outputs": [
    {
     "data": {
      "text/plain": [
       "dict_keys(['name', 'age', 'education'])"
      ]
     },
     "execution_count": 50,
     "metadata": {},
     "output_type": "execute_result"
    }
   ],
   "source": [
    "di[1].keys()"
   ]
  },
  {
   "cell_type": "code",
   "execution_count": 52,
   "id": "0a0176f4-1371-4423-becb-06a024749f53",
   "metadata": {},
   "outputs": [
    {
     "data": {
      "text/plain": [
       "['pehlakutta', 'dosrakutta', 'teesraKutta']"
      ]
     },
     "execution_count": 52,
     "metadata": {},
     "output_type": "execute_result"
    }
   ],
   "source": [
    "di[3]['dogs']"
   ]
  },
  {
   "cell_type": "code",
   "execution_count": 54,
   "id": "5367314f-67c3-4190-be62-e29314e5384d",
   "metadata": {},
   "outputs": [
    {
     "data": {
      "text/plain": [
       "{'name': 'Abhi', 'age': 24, 'education': 'B.tech'}"
      ]
     },
     "execution_count": 54,
     "metadata": {},
     "output_type": "execute_result"
    }
   ],
   "source": [
    "d"
   ]
  },
  {
   "cell_type": "code",
   "execution_count": 55,
   "id": "0b45cb9d-d476-4fd2-8013-74a51d506107",
   "metadata": {},
   "outputs": [],
   "source": [
    "d[\"wife\"] = \"aaa\""
   ]
  },
  {
   "cell_type": "code",
   "execution_count": 56,
   "id": "fd64a2b7-4558-4d53-adf2-d6408d632482",
   "metadata": {},
   "outputs": [
    {
     "data": {
      "text/plain": [
       "{'name': 'Abhi', 'age': 24, 'education': 'B.tech', 'wife': 'aaa'}"
      ]
     },
     "execution_count": 56,
     "metadata": {},
     "output_type": "execute_result"
    }
   ],
   "source": [
    "d"
   ]
  },
  {
   "cell_type": "code",
   "execution_count": 58,
   "id": "f8aa3fa2-43f3-4d88-b257-df47f18d1efd",
   "metadata": {},
   "outputs": [],
   "source": [
    "d['wife'] = \"bbb\""
   ]
  },
  {
   "cell_type": "code",
   "execution_count": 59,
   "id": "d952e693-3409-46dd-9ca6-d8c7eddbe576",
   "metadata": {},
   "outputs": [
    {
     "data": {
      "text/plain": [
       "{'name': 'Abhi', 'age': 24, 'education': 'B.tech', 'wife': 'bbb'}"
      ]
     },
     "execution_count": 59,
     "metadata": {},
     "output_type": "execute_result"
    }
   ],
   "source": [
    "d"
   ]
  },
  {
   "cell_type": "code",
   "execution_count": 65,
   "id": "403998ef-7194-49d7-8782-120563eb6e50",
   "metadata": {},
   "outputs": [
    {
     "data": {
      "text/plain": [
       "'dosra'"
      ]
     },
     "execution_count": 65,
     "metadata": {},
     "output_type": "execute_result"
    }
   ],
   "source": [
    "di[3]['dogs'][1][0:5]"
   ]
  },
  {
   "cell_type": "code",
   "execution_count": 77,
   "id": "f8623a7b-5299-4ea3-bfa3-cef11ae48931",
   "metadata": {},
   "outputs": [
    {
     "data": {
      "text/plain": [
       "{'name': 'abhi', 'age': 20}"
      ]
     },
     "execution_count": 77,
     "metadata": {},
     "output_type": "execute_result"
    }
   ],
   "source": [
    "di.pop(2)"
   ]
  },
  {
   "cell_type": "code",
   "execution_count": 79,
   "id": "8acfa4f8-de42-4e3b-be08-0f5fbec19b21",
   "metadata": {},
   "outputs": [],
   "source": [
    "s = di.pop(1)"
   ]
  },
  {
   "cell_type": "code",
   "execution_count": 80,
   "id": "20f0187f-608f-41ed-a6b3-9b1f3a62bd16",
   "metadata": {},
   "outputs": [
    {
     "data": {
      "text/plain": [
       "{'name': 'Shubham', 'age': 24, 'education': 'b.tech'}"
      ]
     },
     "execution_count": 80,
     "metadata": {},
     "output_type": "execute_result"
    }
   ],
   "source": [
    "s"
   ]
  },
  {
   "cell_type": "code",
   "execution_count": 81,
   "id": "a4a8eed2-b0a7-4ae1-b373-ea0682b35b79",
   "metadata": {},
   "outputs": [
    {
     "data": {
      "text/plain": [
       "{3: {'name': 'akash',\n",
       "  'age': 20,\n",
       "  'dogs': ['pehlakutta', 'dosrakutta', 'teesraKutta']}}"
      ]
     },
     "execution_count": 81,
     "metadata": {},
     "output_type": "execute_result"
    }
   ],
   "source": [
    "di"
   ]
  },
  {
   "cell_type": "code",
   "execution_count": 82,
   "id": "e192f1a1-8d46-42ba-862a-9353ca1d726d",
   "metadata": {},
   "outputs": [],
   "source": [
    "di[\"details\"] = s"
   ]
  },
  {
   "cell_type": "code",
   "execution_count": 83,
   "id": "f0b3a864-c9dd-4490-a77b-6b24aa85a4d6",
   "metadata": {},
   "outputs": [
    {
     "data": {
      "text/plain": [
       "{3: {'name': 'akash',\n",
       "  'age': 20,\n",
       "  'dogs': ['pehlakutta', 'dosrakutta', 'teesraKutta']},\n",
       " 'details': {'name': 'Shubham', 'age': 24, 'education': 'b.tech'}}"
      ]
     },
     "execution_count": 83,
     "metadata": {},
     "output_type": "execute_result"
    }
   ],
   "source": [
    "di"
   ]
  },
  {
   "cell_type": "code",
   "execution_count": null,
   "id": "0dbc6a72-9e40-4dc5-97c6-51f2c45b602e",
   "metadata": {},
   "outputs": [],
   "source": []
  },
  {
   "cell_type": "code",
   "execution_count": 87,
   "id": "d4152274-6463-4d96-95bb-4ba2cc47061f",
   "metadata": {},
   "outputs": [
    {
     "data": {
      "text/plain": [
       "['name', 'age', 'education', 'wife']"
      ]
     },
     "execution_count": 87,
     "metadata": {},
     "output_type": "execute_result"
    }
   ],
   "source": [
    "list(d.keys())"
   ]
  },
  {
   "cell_type": "code",
   "execution_count": 88,
   "id": "853c51fa-ffcb-4ce8-b88d-6d69d8944d57",
   "metadata": {},
   "outputs": [
    {
     "data": {
      "text/plain": [
       "{'name': 'Abhi', 'age': 24, 'education': 'B.tech', 'wife': 'bbb'}"
      ]
     },
     "execution_count": 88,
     "metadata": {},
     "output_type": "execute_result"
    }
   ],
   "source": [
    "d"
   ]
  },
  {
   "cell_type": "code",
   "execution_count": 89,
   "id": "9ba5dd20-c5a8-440c-9896-0340e8d90e74",
   "metadata": {},
   "outputs": [
    {
     "data": {
      "text/plain": [
       "'bbb'"
      ]
     },
     "execution_count": 89,
     "metadata": {},
     "output_type": "execute_result"
    }
   ],
   "source": [
    "d['wife']"
   ]
  },
  {
   "cell_type": "code",
   "execution_count": 92,
   "id": "5b60c92a-79e1-4c54-a2ad-20f46ed8ef06",
   "metadata": {},
   "outputs": [],
   "source": [
    "a = {\"name\":\"Shubham\"}"
   ]
  },
  {
   "cell_type": "code",
   "execution_count": 94,
   "id": "a9160b5a-cae0-4039-8a4f-aed6f4fbffa9",
   "metadata": {},
   "outputs": [],
   "source": [
    "a['age'] = 24"
   ]
  },
  {
   "cell_type": "code",
   "execution_count": 95,
   "id": "017a0c99-9d8a-43d3-bb27-da0ce8d9b6b3",
   "metadata": {},
   "outputs": [
    {
     "data": {
      "text/plain": [
       "{'name': 'Shubham', 'age': 24}"
      ]
     },
     "execution_count": 95,
     "metadata": {},
     "output_type": "execute_result"
    }
   ],
   "source": [
    "a"
   ]
  },
  {
   "cell_type": "code",
   "execution_count": null,
   "id": "4cbac3dd-1022-493d-a465-20eaac3efe73",
   "metadata": {},
   "outputs": [],
   "source": []
  },
  {
   "cell_type": "code",
   "execution_count": null,
   "id": "97dfb39f-f509-4448-be3b-bd0addff8bd9",
   "metadata": {},
   "outputs": [],
   "source": []
  }
 ],
 "metadata": {
  "kernelspec": {
   "display_name": "Python 3 (ipykernel)",
   "language": "python",
   "name": "python3"
  },
  "language_info": {
   "codemirror_mode": {
    "name": "ipython",
    "version": 3
   },
   "file_extension": ".py",
   "mimetype": "text/x-python",
   "name": "python",
   "nbconvert_exporter": "python",
   "pygments_lexer": "ipython3",
   "version": "3.12.7"
  }
 },
 "nbformat": 4,
 "nbformat_minor": 5
}

{
 "cells": [
  {
   "cell_type": "markdown",
   "id": "13c2faa6-7afe-43d8-9eae-5995e48c5694",
   "metadata": {},
   "source": [
    "# Functions"
   ]
  },
  {
   "cell_type": "markdown",
   "id": "567cfc87-a154-408f-97d0-1e6f3af3d02f",
   "metadata": {},
   "source": [
    "## Funtions store code, and it executes the code when called"
   ]
  },
  {
   "cell_type": "code",
   "execution_count": 13,
   "id": "44f35b2a-03d1-4f9c-bb14-fe536ca00437",
   "metadata": {},
   "outputs": [],
   "source": [
    "# define a function\n",
    "\n",
    "def greeting():\n",
    "    print(\"hello everyone nice to meet you\")\n",
    "    #print(2+2)\n"
   ]
  },
  {
   "cell_type": "code",
   "execution_count": 14,
   "id": "88a93492-1856-42bb-9b75-ce02f8b1804a",
   "metadata": {},
   "outputs": [
    {
     "name": "stdout",
     "output_type": "stream",
     "text": [
      "hello everyone nice to meet you\n"
     ]
    }
   ],
   "source": [
    "# call a function\n",
    "greeting()"
   ]
  },
  {
   "cell_type": "markdown",
   "id": "fe65a965-2e6f-4d56-b045-7a8a9ec0e1a0",
   "metadata": {},
   "source": [
    "## Type of funtions"
   ]
  },
  {
   "cell_type": "markdown",
   "id": "0df78805-a0c1-447b-b36b-9d4de765aec3",
   "metadata": {},
   "source": [
    "### Built in funtions"
   ]
  },
  {
   "cell_type": "code",
   "execution_count": 18,
   "id": "fcb7a2aa-a26c-420a-ba05-9834c82d0f2d",
   "metadata": {},
   "outputs": [
    {
     "name": "stdout",
     "output_type": "stream",
     "text": [
      "hi\n"
     ]
    },
    {
     "data": {
      "text/plain": [
       "8"
      ]
     },
     "execution_count": 18,
     "metadata": {},
     "output_type": "execute_result"
    }
   ],
   "source": [
    "# built in funcitons\n",
    "print('hi')\n",
    "len(\"Sshubham\")"
   ]
  },
  {
   "cell_type": "code",
   "execution_count": 17,
   "id": "e06f6a05-6074-468c-b611-dbbc4a92936d",
   "metadata": {},
   "outputs": [
    {
     "data": {
      "text/plain": [
       "8"
      ]
     },
     "execution_count": 17,
     "metadata": {},
     "output_type": "execute_result"
    }
   ],
   "source": [
    "min([8,6,2])\n",
    "max([8,6,2])"
   ]
  },
  {
   "cell_type": "markdown",
   "id": "a42b3c85-bd2f-4739-bad3-dbf12cb17c33",
   "metadata": {},
   "source": [
    "#### User defined functions"
   ]
  },
  {
   "cell_type": "code",
   "execution_count": 23,
   "id": "e6f3d4d4-fd85-4e17-9815-94fc9fb8444e",
   "metadata": {},
   "outputs": [],
   "source": [
    "def greeting():\n",
    "    print(\"hello everyone my name is shubham\")\n",
    "    print(8/0)\n",
    "    print(\"hi\")"
   ]
  },
  {
   "cell_type": "code",
   "execution_count": 24,
   "id": "209ee9dc-98e1-427e-a011-a172f119bfbf",
   "metadata": {},
   "outputs": [
    {
     "name": "stdout",
     "output_type": "stream",
     "text": [
      "hello everyone my name is shubham\n"
     ]
    },
    {
     "ename": "ZeroDivisionError",
     "evalue": "division by zero",
     "output_type": "error",
     "traceback": [
      "\u001b[1;31m---------------------------------------------------------------------------\u001b[0m",
      "\u001b[1;31mZeroDivisionError\u001b[0m                         Traceback (most recent call last)",
      "Cell \u001b[1;32mIn[24], line 1\u001b[0m\n\u001b[1;32m----> 1\u001b[0m greeting()\n",
      "Cell \u001b[1;32mIn[23], line 3\u001b[0m, in \u001b[0;36mgreeting\u001b[1;34m()\u001b[0m\n\u001b[0;32m      1\u001b[0m \u001b[38;5;28;01mdef\u001b[39;00m \u001b[38;5;21mgreeting\u001b[39m():\n\u001b[0;32m      2\u001b[0m     \u001b[38;5;28mprint\u001b[39m(\u001b[38;5;124m\"\u001b[39m\u001b[38;5;124mhello everyone my name is shubham\u001b[39m\u001b[38;5;124m\"\u001b[39m)\n\u001b[1;32m----> 3\u001b[0m     \u001b[38;5;28mprint\u001b[39m(\u001b[38;5;241m8\u001b[39m\u001b[38;5;241m/\u001b[39m\u001b[38;5;241m0\u001b[39m)\n\u001b[0;32m      4\u001b[0m     \u001b[38;5;28mprint\u001b[39m(\u001b[38;5;124m\"\u001b[39m\u001b[38;5;124mhi\u001b[39m\u001b[38;5;124m\"\u001b[39m)\n",
      "\u001b[1;31mZeroDivisionError\u001b[0m: division by zero"
     ]
    }
   ],
   "source": [
    "greeting()"
   ]
  },
  {
   "cell_type": "markdown",
   "id": "16c242a2-e7f1-4983-bd6f-b15c1854aeed",
   "metadata": {},
   "source": [
    "### user defined funtions"
   ]
  },
  {
   "cell_type": "code",
   "execution_count": 25,
   "id": "b27040cf-8824-4109-89db-95280220d505",
   "metadata": {},
   "outputs": [],
   "source": [
    "# simple funcitons\n",
    "\n",
    "def greeting():\n",
    "    print(\"hello everyone nice to meet you\")"
   ]
  },
  {
   "cell_type": "code",
   "execution_count": 26,
   "id": "ace3d3bb-baac-44e9-8f36-535856dc8a48",
   "metadata": {},
   "outputs": [
    {
     "name": "stdout",
     "output_type": "stream",
     "text": [
      "hello everyone nice to meet you\n"
     ]
    }
   ],
   "source": [
    "greeting()"
   ]
  },
  {
   "cell_type": "code",
   "execution_count": 29,
   "id": "2698bcc9-1dbc-41bb-bc82-6fe54996efba",
   "metadata": {},
   "outputs": [],
   "source": [
    "# input funtions\n",
    "\n",
    "def greeting(name):\n",
    "    print(f\"hello {name} nice to meet you\")"
   ]
  },
  {
   "cell_type": "code",
   "execution_count": 30,
   "id": "c6128285-e262-49ab-82c0-5bd91527f883",
   "metadata": {},
   "outputs": [
    {
     "name": "stdout",
     "output_type": "stream",
     "text": [
      "hello akash nice to meet you\n"
     ]
    }
   ],
   "source": [
    "greeting(\"akash\")"
   ]
  },
  {
   "cell_type": "code",
   "execution_count": 33,
   "id": "875a0669-875a-46df-961d-24a3ae5129da",
   "metadata": {},
   "outputs": [
    {
     "ename": "TypeError",
     "evalue": "greeting() missing 1 required positional argument: 'name'",
     "output_type": "error",
     "traceback": [
      "\u001b[1;31m---------------------------------------------------------------------------\u001b[0m",
      "\u001b[1;31mTypeError\u001b[0m                                 Traceback (most recent call last)",
      "Cell \u001b[1;32mIn[33], line 1\u001b[0m\n\u001b[1;32m----> 1\u001b[0m greeting()\n",
      "\u001b[1;31mTypeError\u001b[0m: greeting() missing 1 required positional argument: 'name'"
     ]
    }
   ],
   "source": [
    "greeting()"
   ]
  },
  {
   "cell_type": "code",
   "execution_count": 34,
   "id": "53b1ad8d-62fd-4d72-a07b-9b2d61091e2a",
   "metadata": {},
   "outputs": [],
   "source": [
    "def area_of_circle(r):\n",
    "    print((22/7)*r*r)"
   ]
  },
  {
   "cell_type": "code",
   "execution_count": 35,
   "id": "386bd2c1-4efd-4c65-b78b-34b9d1d55dcd",
   "metadata": {},
   "outputs": [
    {
     "name": "stdout",
     "output_type": "stream",
     "text": [
      "78.57142857142857\n"
     ]
    }
   ],
   "source": [
    "area_of_circle(5)"
   ]
  },
  {
   "cell_type": "code",
   "execution_count": 38,
   "id": "41044ddc-5fa8-4f35-818b-0175701bf6e3",
   "metadata": {},
   "outputs": [],
   "source": [
    "def area_of_ractangle(length, width):\n",
    "    print(length*width)\n"
   ]
  },
  {
   "cell_type": "code",
   "execution_count": 39,
   "id": "f5b4726a-8296-4bcc-959a-e7d67434918c",
   "metadata": {},
   "outputs": [
    {
     "name": "stdout",
     "output_type": "stream",
     "text": [
      "50\n"
     ]
    }
   ],
   "source": [
    "area_of_ractangle(5,10)"
   ]
  },
  {
   "cell_type": "markdown",
   "id": "967eeb76-b461-459f-a49f-8ab0ea267ce1",
   "metadata": {},
   "source": [
    "#### scope"
   ]
  },
  {
   "cell_type": "code",
   "execution_count": 61,
   "id": "28f404b0-963d-4ca1-8da5-234eacdf8dce",
   "metadata": {},
   "outputs": [],
   "source": [
    "# global scope\n",
    "job = \"netamx\"\n",
    "profile = \"data analysis\"\n",
    "def myProfile():\n",
    "    # local scope\n",
    "    name = \"Shubham\"\n",
    "    age= 24\n",
    "    education = \"B.tech\"\n",
    "    job = \"hunting\"\n",
    "    print(name, age, education, job, profile)"
   ]
  },
  {
   "cell_type": "code",
   "execution_count": 62,
   "id": "8c4052b0-5481-45dc-a3b9-1a0e2f6b0e33",
   "metadata": {},
   "outputs": [
    {
     "name": "stdout",
     "output_type": "stream",
     "text": [
      "Shubham 24 B.tech hunting data analysis\n"
     ]
    }
   ],
   "source": [
    "myProfile()"
   ]
  },
  {
   "cell_type": "code",
   "execution_count": 63,
   "id": "f452be45-c101-4f6b-b354-ba0b47ebc4be",
   "metadata": {},
   "outputs": [
    {
     "ename": "NameError",
     "evalue": "name 'name' is not defined",
     "output_type": "error",
     "traceback": [
      "\u001b[1;31m---------------------------------------------------------------------------\u001b[0m",
      "\u001b[1;31mNameError\u001b[0m                                 Traceback (most recent call last)",
      "Cell \u001b[1;32mIn[63], line 1\u001b[0m\n\u001b[1;32m----> 1\u001b[0m name\n",
      "\u001b[1;31mNameError\u001b[0m: name 'name' is not defined"
     ]
    }
   ],
   "source": [
    "name"
   ]
  },
  {
   "cell_type": "code",
   "execution_count": 64,
   "id": "c7016d56-2522-4731-8d7c-f085661f1d81",
   "metadata": {},
   "outputs": [
    {
     "data": {
      "text/plain": [
       "'netamx'"
      ]
     },
     "execution_count": 64,
     "metadata": {},
     "output_type": "execute_result"
    }
   ],
   "source": [
    "job"
   ]
  },
  {
   "cell_type": "code",
   "execution_count": 55,
   "id": "e08c2f27-bf28-4d0b-9c47-6d05b0e5c813",
   "metadata": {},
   "outputs": [],
   "source": [
    "# global scope\n",
    "job = \"netamx\"\n",
    "def myProfile():\n",
    "    # local scope\n",
    "    name = \"Shubham\"\n",
    "    global age\n",
    "    age= 24\n",
    "    education = \"B.tech\"\n",
    "    job = \"hunting\"\n",
    "    print(name, age, education, job)"
   ]
  },
  {
   "cell_type": "code",
   "execution_count": 57,
   "id": "be40ee54-7b6f-48cb-9124-583f9c6f8c32",
   "metadata": {},
   "outputs": [
    {
     "name": "stdout",
     "output_type": "stream",
     "text": [
      "Shubham 24 B.tech hunting\n"
     ]
    }
   ],
   "source": [
    "myProfile()"
   ]
  },
  {
   "cell_type": "code",
   "execution_count": 58,
   "id": "281732fd-64b8-402e-b97f-d3d2b00f0a33",
   "metadata": {},
   "outputs": [
    {
     "data": {
      "text/plain": [
       "24"
      ]
     },
     "execution_count": 58,
     "metadata": {},
     "output_type": "execute_result"
    }
   ],
   "source": [
    "age"
   ]
  },
  {
   "cell_type": "code",
   "execution_count": 66,
   "id": "9bedcf63-62e3-4af1-8f1d-38e82f1282ca",
   "metadata": {},
   "outputs": [
    {
     "name": "stdout",
     "output_type": "stream",
     "text": [
      "hello name nice to meet you\n"
     ]
    }
   ],
   "source": [
    "greeting(\"name\")"
   ]
  },
  {
   "cell_type": "code",
   "execution_count": 71,
   "id": "82bfc25f-ba66-49a9-af76-6d6d5755016c",
   "metadata": {},
   "outputs": [],
   "source": [
    "# default funtion\n",
    "def greeting(name=\"USER\"):\n",
    "    print(f'hello {name}, nice to meet you')"
   ]
  },
  {
   "cell_type": "code",
   "execution_count": 73,
   "id": "ae6cb3cf-24a2-4276-a7f7-e72ca7f56cc1",
   "metadata": {},
   "outputs": [
    {
     "name": "stdout",
     "output_type": "stream",
     "text": [
      "hello USER, nice to meet you\n"
     ]
    }
   ],
   "source": [
    "greeting()"
   ]
  },
  {
   "cell_type": "code",
   "execution_count": null,
   "id": "349f86d1-7a53-4c84-b349-7c012b996506",
   "metadata": {},
   "outputs": [],
   "source": []
  },
  {
   "cell_type": "code",
   "execution_count": 97,
   "id": "b1a0369a-eb53-451a-8935-e0d00997596b",
   "metadata": {},
   "outputs": [],
   "source": [
    "# return function\n",
    "def salary_structure(Salary, tax_rate=0.12):\n",
    "    tax=Salary* tax_rate\n",
    "    return tax"
   ]
  },
  {
   "cell_type": "code",
   "execution_count": 101,
   "id": "bff7f683-ffe5-4429-806b-e50cc59d368d",
   "metadata": {},
   "outputs": [],
   "source": [
    "tax = salary_structure( 80000, tax_rate= 0.12)"
   ]
  },
  {
   "cell_type": "code",
   "execution_count": 102,
   "id": "519fd5d6-abb2-4369-b829-a8b41b6237db",
   "metadata": {},
   "outputs": [
    {
     "name": "stdout",
     "output_type": "stream",
     "text": [
      "9600.0\n"
     ]
    }
   ],
   "source": [
    "print(tax)"
   ]
  },
  {
   "cell_type": "code",
   "execution_count": 104,
   "id": "fe44ec3b-c92c-4459-b76a-08574f166387",
   "metadata": {},
   "outputs": [
    {
     "ename": "TypeError",
     "evalue": "salary_structure() missing 1 required positional argument: 'Salary'",
     "output_type": "error",
     "traceback": [
      "\u001b[1;31m---------------------------------------------------------------------------\u001b[0m",
      "\u001b[1;31mTypeError\u001b[0m                                 Traceback (most recent call last)",
      "Cell \u001b[1;32mIn[104], line 1\u001b[0m\n\u001b[1;32m----> 1\u001b[0m salary_structure()\n",
      "\u001b[1;31mTypeError\u001b[0m: salary_structure() missing 1 required positional argument: 'Salary'"
     ]
    }
   ],
   "source": [
    "salary_structure()"
   ]
  },
  {
   "cell_type": "code",
   "execution_count": 130,
   "id": "e6a8a884-0aaa-499b-a837-924c53312dc7",
   "metadata": {},
   "outputs": [],
   "source": [
    "def volume_of_cuboid(length, width, hight):\n",
    "    \"\"\"\n",
    "    dock string is printed in help \n",
    "    and position defines length, width, hight\n",
    "    \"\"\"\n",
    "\n",
    "    \n",
    "    dimensions = f\"\"\"\n",
    "        length: {length}\n",
    "        width : {width}\n",
    "        hight : {hight}\n",
    "    \"\"\"\n",
    "    print(dimensions)\n",
    "    return length*width*hight"
   ]
  },
  {
   "cell_type": "code",
   "execution_count": 131,
   "id": "bc6b1b55-4a92-4df5-8185-f96c8f40e290",
   "metadata": {},
   "outputs": [
    {
     "name": "stdout",
     "output_type": "stream",
     "text": [
      "\n",
      "        length: 80\n",
      "        width : 50\n",
      "        hight : 100\n",
      "    \n"
     ]
    },
    {
     "data": {
      "text/plain": [
       "400000"
      ]
     },
     "execution_count": 131,
     "metadata": {},
     "output_type": "execute_result"
    }
   ],
   "source": [
    "volume_of_cuboid(80, 50, 100)"
   ]
  },
  {
   "cell_type": "code",
   "execution_count": 122,
   "id": "97ce686a-bf71-40fe-b631-fc3a68b80819",
   "metadata": {},
   "outputs": [
    {
     "name": "stdout",
     "output_type": "stream",
     "text": [
      "Help on function volume_of_cuboid in module __main__:\n",
      "\n",
      "volume_of_cuboid(length, width, hight)\n",
      "    this function calculates volume of cuboid\n",
      "    it takes length, width, hight, as input and multiplies them\n",
      "\n"
     ]
    }
   ],
   "source": [
    "help(volume_of_cuboid)"
   ]
  },
  {
   "cell_type": "code",
   "execution_count": 133,
   "id": "c382bbbb-b6de-4f98-af3e-6ea7e4da2a96",
   "metadata": {},
   "outputs": [
    {
     "name": "stdout",
     "output_type": "stream",
     "text": [
      "\n",
      "        length: 50\n",
      "        width : 80\n",
      "        hight : 100\n",
      "    \n"
     ]
    },
    {
     "data": {
      "text/plain": [
       "400000"
      ]
     },
     "execution_count": 133,
     "metadata": {},
     "output_type": "execute_result"
    }
   ],
   "source": [
    "# keyword arguments\n",
    "volume_of_cuboid(length=50, hight=100, width=80)"
   ]
  },
  {
   "cell_type": "code",
   "execution_count": 135,
   "id": "e95287a1-bf1c-45db-b8cd-9a53bfec6c64",
   "metadata": {},
   "outputs": [
    {
     "ename": "SyntaxError",
     "evalue": "positional argument follows keyword argument (792518380.py, line 1)",
     "output_type": "error",
     "traceback": [
      "\u001b[1;36m  Cell \u001b[1;32mIn[135], line 1\u001b[1;36m\u001b[0m\n\u001b[1;33m    volume_of_cuboid(length=50, hight=100, 80)\u001b[0m\n\u001b[1;37m                                             ^\u001b[0m\n\u001b[1;31mSyntaxError\u001b[0m\u001b[1;31m:\u001b[0m positional argument follows keyword argument\n"
     ]
    }
   ],
   "source": [
    "volume_of_cuboid(length=50, hight=100, 80)"
   ]
  },
  {
   "cell_type": "code",
   "execution_count": 136,
   "id": "a1eb0efe-f2d3-4dc2-a5b1-91bad8c0179b",
   "metadata": {},
   "outputs": [
    {
     "ename": "TypeError",
     "evalue": "volume_of_cuboid() got multiple values for argument 'length'",
     "output_type": "error",
     "traceback": [
      "\u001b[1;31m---------------------------------------------------------------------------\u001b[0m",
      "\u001b[1;31mTypeError\u001b[0m                                 Traceback (most recent call last)",
      "Cell \u001b[1;32mIn[136], line 1\u001b[0m\n\u001b[1;32m----> 1\u001b[0m volume_of_cuboid(\u001b[38;5;241m80\u001b[39m, length\u001b[38;5;241m=\u001b[39m\u001b[38;5;241m50\u001b[39m, hight\u001b[38;5;241m=\u001b[39m\u001b[38;5;241m100\u001b[39m)\n",
      "\u001b[1;31mTypeError\u001b[0m: volume_of_cuboid() got multiple values for argument 'length'"
     ]
    }
   ],
   "source": [
    "volume_of_cuboid(80, length=50, hight=100)"
   ]
  },
  {
   "cell_type": "code",
   "execution_count": 137,
   "id": "8e46dca4-d2cf-4543-891f-5d5147c42c55",
   "metadata": {},
   "outputs": [],
   "source": [
    "li = [8,6,4,7,5,2,1,2,3,6,5,9]"
   ]
  },
  {
   "cell_type": "code",
   "execution_count": 139,
   "id": "c343638c-9b52-42ff-a95b-f30995656436",
   "metadata": {},
   "outputs": [],
   "source": [
    "def Sorthalf(li : list):\n",
    "    length = len(li)\n",
    "    li.sort()\n",
    "    firstHalf = li[:length//2]\n",
    "    secondHalf = li[length//2:]\n",
    "    secondHalf.sort(reverse=True)\n",
    "\n",
    "    return firstHalf+secondHalf"
   ]
  },
  {
   "cell_type": "code",
   "execution_count": 140,
   "id": "e82a2f82-761e-4d93-90ab-575085f9b6f9",
   "metadata": {},
   "outputs": [
    {
     "data": {
      "text/plain": [
       "[1, 2, 2, 3, 4, 5, 9, 8, 7, 6, 6, 5]"
      ]
     },
     "execution_count": 140,
     "metadata": {},
     "output_type": "execute_result"
    }
   ],
   "source": [
    "Sorthalf(li)"
   ]
  },
  {
   "cell_type": "code",
   "execution_count": null,
   "id": "c368d741-569e-446c-9c7c-001d48d1b6f6",
   "metadata": {},
   "outputs": [],
   "source": []
  }
 ],
 "metadata": {
  "kernelspec": {
   "display_name": "Python 3 (ipykernel)",
   "language": "python",
   "name": "python3"
  },
  "language_info": {
   "codemirror_mode": {
    "name": "ipython",
    "version": 3
   },
   "file_extension": ".py",
   "mimetype": "text/x-python",
   "name": "python",
   "nbconvert_exporter": "python",
   "pygments_lexer": "ipython3",
   "version": "3.12.7"
  }
 },
 "nbformat": 4,
 "nbformat_minor": 5
}

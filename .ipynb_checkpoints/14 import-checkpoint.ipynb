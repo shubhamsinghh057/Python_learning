{
 "cells": [
  {
   "cell_type": "code",
   "execution_count": 5,
   "id": "99ea3b90-b75b-4747-a1d5-95c824f58c37",
   "metadata": {},
   "outputs": [
    {
     "name": "stdout",
     "output_type": "stream",
     "text": [
      "Requirement already satisfied: pandas in c:\\users\\hp\\anaconda3\\lib\\site-packages (2.2.2)\n",
      "Requirement already satisfied: numpy>=1.26.0 in c:\\users\\hp\\anaconda3\\lib\\site-packages (from pandas) (1.26.4)\n",
      "Requirement already satisfied: python-dateutil>=2.8.2 in c:\\users\\hp\\anaconda3\\lib\\site-packages (from pandas) (2.9.0.post0)\n",
      "Requirement already satisfied: pytz>=2020.1 in c:\\users\\hp\\anaconda3\\lib\\site-packages (from pandas) (2024.1)\n",
      "Requirement already satisfied: tzdata>=2022.7 in c:\\users\\hp\\anaconda3\\lib\\site-packages (from pandas) (2023.3)\n",
      "Requirement already satisfied: six>=1.5 in c:\\users\\hp\\anaconda3\\lib\\site-packages (from python-dateutil>=2.8.2->pandas) (1.16.0)\n",
      "Note: you may need to restart the kernel to use updated packages.\n"
     ]
    }
   ],
   "source": [
    "pip install pandas"
   ]
  },
  {
   "cell_type": "code",
   "execution_count": 12,
   "id": "b19863d6-0d67-4659-8161-06bedb9e424d",
   "metadata": {},
   "outputs": [
    {
     "name": "stdout",
     "output_type": "stream",
     "text": [
      "Collecting Django==5.2.5\n",
      "  Downloading django-5.2.5-py3-none-any.whl.metadata (4.1 kB)\n",
      "Requirement already satisfied: asgiref>=3.8.1 in c:\\users\\hp\\anaconda3\\lib\\site-packages (from Django==5.2.5) (3.8.1)\n",
      "Requirement already satisfied: sqlparse>=0.3.1 in c:\\users\\hp\\anaconda3\\lib\\site-packages (from Django==5.2.5) (0.5.3)\n",
      "Requirement already satisfied: tzdata in c:\\users\\hp\\anaconda3\\lib\\site-packages (from Django==5.2.5) (2023.3)\n",
      "Downloading django-5.2.5-py3-none-any.whl (8.3 MB)\n",
      "   ---------------------------------------- 0.0/8.3 MB ? eta -:--:--\n",
      "   ---------------------------------------- 0.0/8.3 MB ? eta -:--:--\n",
      "   ---------------------------------------- 0.0/8.3 MB ? eta -:--:--\n",
      "   - -------------------------------------- 0.3/8.3 MB ? eta -:--:--\n",
      "   - -------------------------------------- 0.3/8.3 MB ? eta -:--:--\n",
      "   -- ------------------------------------- 0.5/8.3 MB 541.6 kB/s eta 0:00:15\n",
      "   -- ------------------------------------- 0.5/8.3 MB 541.6 kB/s eta 0:00:15\n",
      "   --- ------------------------------------ 0.8/8.3 MB 558.9 kB/s eta 0:00:14\n",
      "   --- ------------------------------------ 0.8/8.3 MB 558.9 kB/s eta 0:00:14\n",
      "   ----- ---------------------------------- 1.0/8.3 MB 572.0 kB/s eta 0:00:13\n",
      "   ----- ---------------------------------- 1.0/8.3 MB 572.0 kB/s eta 0:00:13\n",
      "   ------ --------------------------------- 1.3/8.3 MB 578.4 kB/s eta 0:00:13\n",
      "   ------ --------------------------------- 1.3/8.3 MB 578.4 kB/s eta 0:00:13\n",
      "   ------- -------------------------------- 1.6/8.3 MB 582.5 kB/s eta 0:00:12\n",
      "   ------- -------------------------------- 1.6/8.3 MB 582.5 kB/s eta 0:00:12\n",
      "   ------- -------------------------------- 1.6/8.3 MB 582.5 kB/s eta 0:00:12\n",
      "   -------- ------------------------------- 1.8/8.3 MB 578.5 kB/s eta 0:00:12\n",
      "   -------- ------------------------------- 1.8/8.3 MB 578.5 kB/s eta 0:00:12\n",
      "   ---------- ----------------------------- 2.1/8.3 MB 578.5 kB/s eta 0:00:11\n",
      "   ---------- ----------------------------- 2.1/8.3 MB 578.5 kB/s eta 0:00:11\n",
      "   ----------- ---------------------------- 2.4/8.3 MB 583.5 kB/s eta 0:00:11\n",
      "   ----------- ---------------------------- 2.4/8.3 MB 583.5 kB/s eta 0:00:11\n",
      "   ------------ --------------------------- 2.6/8.3 MB 583.0 kB/s eta 0:00:10\n",
      "   ------------ --------------------------- 2.6/8.3 MB 583.0 kB/s eta 0:00:10\n",
      "   ------------- -------------------------- 2.9/8.3 MB 582.5 kB/s eta 0:00:10\n",
      "   ------------- -------------------------- 2.9/8.3 MB 582.5 kB/s eta 0:00:10\n",
      "   --------------- ------------------------ 3.1/8.3 MB 584.0 kB/s eta 0:00:09\n",
      "   --------------- ------------------------ 3.1/8.3 MB 584.0 kB/s eta 0:00:09\n",
      "   ---------------- ----------------------- 3.4/8.3 MB 583.5 kB/s eta 0:00:09\n",
      "   ---------------- ----------------------- 3.4/8.3 MB 583.5 kB/s eta 0:00:09\n",
      "   ----------------- ---------------------- 3.7/8.3 MB 584.7 kB/s eta 0:00:08\n",
      "   ----------------- ---------------------- 3.7/8.3 MB 584.7 kB/s eta 0:00:08\n",
      "   ------------------ --------------------- 3.9/8.3 MB 584.3 kB/s eta 0:00:08\n",
      "   ------------------ --------------------- 3.9/8.3 MB 584.3 kB/s eta 0:00:08\n",
      "   -------------------- ------------------- 4.2/8.3 MB 585.2 kB/s eta 0:00:08\n",
      "   -------------------- ------------------- 4.2/8.3 MB 585.2 kB/s eta 0:00:08\n",
      "   --------------------- ------------------ 4.5/8.3 MB 584.8 kB/s eta 0:00:07\n",
      "   --------------------- ------------------ 4.5/8.3 MB 584.8 kB/s eta 0:00:07\n",
      "   ---------------------- ----------------- 4.7/8.3 MB 585.7 kB/s eta 0:00:07\n",
      "   ---------------------- ----------------- 4.7/8.3 MB 585.7 kB/s eta 0:00:07\n",
      "   ---------------------- ----------------- 4.7/8.3 MB 585.7 kB/s eta 0:00:07\n",
      "   ----------------------- ---------------- 5.0/8.3 MB 586.4 kB/s eta 0:00:06\n",
      "   ----------------------- ---------------- 5.0/8.3 MB 586.4 kB/s eta 0:00:06\n",
      "   ------------------------- -------------- 5.2/8.3 MB 584.9 kB/s eta 0:00:06\n",
      "   ------------------------- -------------- 5.2/8.3 MB 584.9 kB/s eta 0:00:06\n",
      "   -------------------------- ------------- 5.5/8.3 MB 584.6 kB/s eta 0:00:05\n",
      "   -------------------------- ------------- 5.5/8.3 MB 584.6 kB/s eta 0:00:05\n",
      "   --------------------------- ------------ 5.8/8.3 MB 584.3 kB/s eta 0:00:05\n",
      "   --------------------------- ------------ 5.8/8.3 MB 584.3 kB/s eta 0:00:05\n",
      "   ----------------------------- ---------- 6.0/8.3 MB 585.0 kB/s eta 0:00:04\n",
      "   ----------------------------- ---------- 6.0/8.3 MB 585.0 kB/s eta 0:00:04\n",
      "   ------------------------------ --------- 6.3/8.3 MB 584.6 kB/s eta 0:00:04\n",
      "   ------------------------------ --------- 6.3/8.3 MB 584.6 kB/s eta 0:00:04\n",
      "   ------------------------------- -------- 6.6/8.3 MB 584.4 kB/s eta 0:00:03\n",
      "   ------------------------------- -------- 6.6/8.3 MB 584.4 kB/s eta 0:00:03\n",
      "   -------------------------------- ------- 6.8/8.3 MB 585.0 kB/s eta 0:00:03\n",
      "   -------------------------------- ------- 6.8/8.3 MB 585.0 kB/s eta 0:00:03\n",
      "   -------------------------------- ------- 6.8/8.3 MB 585.0 kB/s eta 0:00:03\n",
      "   ---------------------------------- ----- 7.1/8.3 MB 581.6 kB/s eta 0:00:03\n",
      "   ---------------------------------- ----- 7.1/8.3 MB 581.6 kB/s eta 0:00:03\n",
      "   ----------------------------------- ---- 7.3/8.3 MB 582.3 kB/s eta 0:00:02\n",
      "   ----------------------------------- ---- 7.3/8.3 MB 582.3 kB/s eta 0:00:02\n",
      "   ------------------------------------ --- 7.6/8.3 MB 582.8 kB/s eta 0:00:02\n",
      "   ------------------------------------ --- 7.6/8.3 MB 582.8 kB/s eta 0:00:02\n",
      "   ------------------------------------- -- 7.9/8.3 MB 582.7 kB/s eta 0:00:01\n",
      "   ------------------------------------- -- 7.9/8.3 MB 582.7 kB/s eta 0:00:01\n",
      "   ---------------------------------------  8.1/8.3 MB 582.5 kB/s eta 0:00:01\n",
      "   ---------------------------------------- 8.3/8.3 MB 582.8 kB/s eta 0:00:00\n",
      "Installing collected packages: Django\n",
      "  Attempting uninstall: Django\n",
      "    Found existing installation: Django 5.2.3\n",
      "    Uninstalling Django-5.2.3:\n",
      "      Successfully uninstalled Django-5.2.3\n",
      "Successfully installed Django-5.2.5\n",
      "Note: you may need to restart the kernel to use updated packages.\n"
     ]
    }
   ],
   "source": [
    "pip install Django==5.2.5"
   ]
  },
  {
   "cell_type": "code",
   "execution_count": 13,
   "id": "0376ff55-5781-4964-97d6-c25cb2e0d9bd",
   "metadata": {},
   "outputs": [],
   "source": [
    "import random"
   ]
  },
  {
   "cell_type": "code",
   "execution_count": 14,
   "id": "a4da1868-aea5-4d53-8f03-9a30558860be",
   "metadata": {},
   "outputs": [
    {
     "data": {
      "text/plain": [
       "14"
      ]
     },
     "execution_count": 14,
     "metadata": {},
     "output_type": "execute_result"
    }
   ],
   "source": [
    "random.randint(10, 20)"
   ]
  },
  {
   "cell_type": "code",
   "execution_count": 16,
   "id": "a0f819b0-0703-4b01-bc5d-5bddb99e3f5d",
   "metadata": {},
   "outputs": [
    {
     "name": "stdout",
     "output_type": "stream",
     "text": [
      "Requirement already satisfied: pandas in c:\\users\\hp\\anaconda3\\lib\\site-packages (2.2.2)\n",
      "Requirement already satisfied: numpy>=1.26.0 in c:\\users\\hp\\anaconda3\\lib\\site-packages (from pandas) (1.26.4)\n",
      "Requirement already satisfied: python-dateutil>=2.8.2 in c:\\users\\hp\\anaconda3\\lib\\site-packages (from pandas) (2.9.0.post0)\n",
      "Requirement already satisfied: pytz>=2020.1 in c:\\users\\hp\\anaconda3\\lib\\site-packages (from pandas) (2024.1)\n",
      "Requirement already satisfied: tzdata>=2022.7 in c:\\users\\hp\\anaconda3\\lib\\site-packages (from pandas) (2023.3)\n",
      "Requirement already satisfied: six>=1.5 in c:\\users\\hp\\anaconda3\\lib\\site-packages (from python-dateutil>=2.8.2->pandas) (1.16.0)\n",
      "Note: you may need to restart the kernel to use updated packages.\n"
     ]
    }
   ],
   "source": [
    "pip install pandas"
   ]
  },
  {
   "cell_type": "code",
   "execution_count": 18,
   "id": "15ce7c84-9a54-4275-984a-3aaaca2b8e7d",
   "metadata": {},
   "outputs": [],
   "source": [
    "import pandas as pd"
   ]
  },
  {
   "cell_type": "code",
   "execution_count": 22,
   "id": "c5c80417-de22-460c-b2ff-038457cd112c",
   "metadata": {},
   "outputs": [
    {
     "data": {
      "text/html": [
       "<div>\n",
       "<style scoped>\n",
       "    .dataframe tbody tr th:only-of-type {\n",
       "        vertical-align: middle;\n",
       "    }\n",
       "\n",
       "    .dataframe tbody tr th {\n",
       "        vertical-align: top;\n",
       "    }\n",
       "\n",
       "    .dataframe thead th {\n",
       "        text-align: right;\n",
       "    }\n",
       "</style>\n",
       "<table border=\"1\" class=\"dataframe\">\n",
       "  <thead>\n",
       "    <tr style=\"text-align: right;\">\n",
       "      <th></th>\n",
       "      <th>name</th>\n",
       "      <th>age</th>\n",
       "    </tr>\n",
       "  </thead>\n",
       "  <tbody>\n",
       "    <tr>\n",
       "      <th>0</th>\n",
       "      <td>Shubham</td>\n",
       "      <td>20</td>\n",
       "    </tr>\n",
       "    <tr>\n",
       "      <th>1</th>\n",
       "      <td>abhi</td>\n",
       "      <td>25</td>\n",
       "    </tr>\n",
       "  </tbody>\n",
       "</table>\n",
       "</div>"
      ],
      "text/plain": [
       "      name  age\n",
       "0  Shubham   20\n",
       "1     abhi   25"
      ]
     },
     "execution_count": 22,
     "metadata": {},
     "output_type": "execute_result"
    }
   ],
   "source": [
    "pd.DataFrame({\"name\" : [\"Shubham\", \"abhi\"], 'age': [20,25]})"
   ]
  },
  {
   "cell_type": "code",
   "execution_count": 27,
   "id": "05dc9fe1-ef7e-49a4-afbc-893217616505",
   "metadata": {},
   "outputs": [],
   "source": [
    "from random import randint"
   ]
  },
  {
   "cell_type": "code",
   "execution_count": 26,
   "id": "cd2e8dcf-96eb-4762-aa3f-778dbc95d97b",
   "metadata": {},
   "outputs": [
    {
     "data": {
      "text/plain": [
       "18"
      ]
     },
     "execution_count": 26,
     "metadata": {},
     "output_type": "execute_result"
    }
   ],
   "source": [
    "randint(10,20)"
   ]
  },
  {
   "cell_type": "code",
   "execution_count": 28,
   "id": "f79a993a-60de-4be3-a7de-5ba656a5ccc4",
   "metadata": {},
   "outputs": [],
   "source": [
    "from random import *"
   ]
  },
  {
   "cell_type": "code",
   "execution_count": 29,
   "id": "fe59fe54-5c0b-455c-8a2d-63fa2b7419a1",
   "metadata": {},
   "outputs": [],
   "source": [
    "import numpy as np"
   ]
  },
  {
   "cell_type": "code",
   "execution_count": null,
   "id": "7c86ee56-035c-4673-b81a-5fee3b3805a3",
   "metadata": {},
   "outputs": [],
   "source": [
    "np.random.randint"
   ]
  },
  {
   "cell_type": "code",
   "execution_count": 33,
   "id": "0fba73cb-faa9-4cdf-95f1-4ac1a16cadea",
   "metadata": {},
   "outputs": [
    {
     "name": "stdout",
     "output_type": "stream",
     "text": [
      "Help on method choice in module random:\n",
      "\n",
      "choice(seq) method of random.Random instance\n",
      "    Choose a random element from a non-empty sequence.\n",
      "\n"
     ]
    }
   ],
   "source": [
    "help(choice)"
   ]
  },
  {
   "cell_type": "code",
   "execution_count": 47,
   "id": "d928d822-2ca5-4265-bf86-c158bc67de4d",
   "metadata": {},
   "outputs": [
    {
     "data": {
      "text/plain": [
       "'Shubham'"
      ]
     },
     "execution_count": 47,
     "metadata": {},
     "output_type": "execute_result"
    }
   ],
   "source": [
    "choice([\"Shubham\", \"abhi\", 'akash'])"
   ]
  },
  {
   "cell_type": "code",
   "execution_count": 49,
   "id": "42bf058c-5da6-42fe-8e0b-e2b4d22f3e9c",
   "metadata": {},
   "outputs": [],
   "source": [
    "from datetime import datetime"
   ]
  },
  {
   "cell_type": "code",
   "execution_count": 51,
   "id": "1241ccec-d59f-47c9-8018-cac875e5019d",
   "metadata": {},
   "outputs": [
    {
     "data": {
      "text/plain": [
       "datetime.datetime(2025, 8, 19, 13, 14, 12, 309629)"
      ]
     },
     "execution_count": 51,
     "metadata": {},
     "output_type": "execute_result"
    }
   ],
   "source": [
    "datetime.today()"
   ]
  },
  {
   "cell_type": "code",
   "execution_count": 53,
   "id": "46aa638e-212e-4304-a0ea-b73fc3d6baa2",
   "metadata": {},
   "outputs": [],
   "source": [
    "a = datetime.now()"
   ]
  },
  {
   "cell_type": "code",
   "execution_count": 55,
   "id": "17e55840-5004-4cd7-894f-7f4caff52150",
   "metadata": {},
   "outputs": [
    {
     "data": {
      "text/plain": [
       "19"
      ]
     },
     "execution_count": 55,
     "metadata": {},
     "output_type": "execute_result"
    }
   ],
   "source": [
    "a.day"
   ]
  },
  {
   "cell_type": "code",
   "execution_count": 57,
   "id": "5a725de9-695f-43e1-8094-aad41cb184a5",
   "metadata": {},
   "outputs": [
    {
     "data": {
      "text/plain": [
       "datetime.date(2025, 8, 19)"
      ]
     },
     "execution_count": 57,
     "metadata": {},
     "output_type": "execute_result"
    }
   ],
   "source": [
    "a.date()"
   ]
  },
  {
   "cell_type": "code",
   "execution_count": 62,
   "id": "27a54a5a-3423-4a93-986a-6e4dba74a5ab",
   "metadata": {},
   "outputs": [
    {
     "data": {
      "text/plain": [
       "13"
      ]
     },
     "execution_count": 62,
     "metadata": {},
     "output_type": "execute_result"
    }
   ],
   "source": [
    "a.hour"
   ]
  },
  {
   "cell_type": "code",
   "execution_count": 63,
   "id": "3b859c2d-482c-4e30-87fd-ece9c62dd2c7",
   "metadata": {},
   "outputs": [
    {
     "data": {
      "text/plain": [
       "datetime.datetime(9999, 12, 31, 23, 59, 59, 999999)"
      ]
     },
     "execution_count": 63,
     "metadata": {},
     "output_type": "execute_result"
    }
   ],
   "source": [
    "a.max"
   ]
  },
  {
   "cell_type": "code",
   "execution_count": 64,
   "id": "065ca732-cb76-43bd-aa39-adc150672a70",
   "metadata": {},
   "outputs": [
    {
     "data": {
      "text/plain": [
       "datetime.datetime(1, 1, 1, 0, 0)"
      ]
     },
     "execution_count": 64,
     "metadata": {},
     "output_type": "execute_result"
    }
   ],
   "source": [
    "a.min"
   ]
  },
  {
   "cell_type": "code",
   "execution_count": 67,
   "id": "47dab603-ccf2-47ec-8392-c9f2704a1edd",
   "metadata": {},
   "outputs": [
    {
     "name": "stdout",
     "output_type": "stream",
     "text": [
      "Help on built-in function today:\n",
      "\n",
      "today(...) class method of datetime.datetime\n",
      "    Current date or datetime:  same as self.__class__.fromtimestamp(time.time()).\n",
      "\n"
     ]
    }
   ],
   "source": [
    "help(datetime.today)"
   ]
  },
  {
   "cell_type": "code",
   "execution_count": 69,
   "id": "7785a4e4-7ac8-4d8c-8484-b1f882f3303f",
   "metadata": {},
   "outputs": [
    {
     "ename": "TypeError",
     "evalue": "descriptor 'date' for 'datetime.datetime' objects doesn't apply to a 'int' object",
     "output_type": "error",
     "traceback": [
      "\u001b[1;31m---------------------------------------------------------------------------\u001b[0m",
      "\u001b[1;31mTypeError\u001b[0m                                 Traceback (most recent call last)",
      "Cell \u001b[1;32mIn[69], line 1\u001b[0m\n\u001b[1;32m----> 1\u001b[0m datetime\u001b[38;5;241m.\u001b[39mdate(\u001b[38;5;241m2005\u001b[39m, \u001b[38;5;241m5\u001b[39m, \u001b[38;5;241m15\u001b[39m)\n",
      "\u001b[1;31mTypeError\u001b[0m: descriptor 'date' for 'datetime.datetime' objects doesn't apply to a 'int' object"
     ]
    }
   ],
   "source": [
    "datetime.date(2005, 5, 15)"
   ]
  },
  {
   "cell_type": "code",
   "execution_count": 70,
   "id": "d1be6e77-1733-4684-97b0-784abeece77a",
   "metadata": {},
   "outputs": [
    {
     "name": "stdout",
     "output_type": "stream",
     "text": [
      "Help on method_descriptor:\n",
      "\n",
      "date(...) unbound datetime.datetime method\n",
      "    Return date object with same year, month and day.\n",
      "\n"
     ]
    }
   ],
   "source": [
    "help(datetime.date)"
   ]
  },
  {
   "cell_type": "code",
   "execution_count": 72,
   "id": "2f3a1ca5-ac36-497e-9bd0-c4aa0cbeace5",
   "metadata": {},
   "outputs": [
    {
     "data": {
      "text/plain": [
       "datetime.date(2025, 8, 19)"
      ]
     },
     "execution_count": 72,
     "metadata": {},
     "output_type": "execute_result"
    }
   ],
   "source": [
    "datetime.date(a)"
   ]
  },
  {
   "cell_type": "code",
   "execution_count": 73,
   "id": "b4c00a74-b0af-49e9-9793-e27cd1ee3c6f",
   "metadata": {},
   "outputs": [
    {
     "data": {
      "text/plain": [
       "datetime.datetime(2025, 8, 19, 13, 14, 42, 418244)"
      ]
     },
     "execution_count": 73,
     "metadata": {},
     "output_type": "execute_result"
    }
   ],
   "source": [
    "a"
   ]
  },
  {
   "cell_type": "code",
   "execution_count": 74,
   "id": "1abc4b26-5bed-4c02-874a-415944284648",
   "metadata": {},
   "outputs": [
    {
     "data": {
      "text/plain": [
       "datetime.time(13, 14, 42, 418244)"
      ]
     },
     "execution_count": 74,
     "metadata": {},
     "output_type": "execute_result"
    }
   ],
   "source": [
    "datetime.time(a)"
   ]
  },
  {
   "cell_type": "code",
   "execution_count": 76,
   "id": "f63dfdcf-ca58-4290-a405-6cf44e4cdda4",
   "metadata": {},
   "outputs": [],
   "source": [
    "d = datetime(2005, 8, 15)"
   ]
  },
  {
   "cell_type": "code",
   "execution_count": 77,
   "id": "6bfd0150-71e9-4683-8c8c-059da6741eb1",
   "metadata": {},
   "outputs": [
    {
     "data": {
      "text/plain": [
       "datetime.datetime(2005, 8, 15, 0, 0)"
      ]
     },
     "execution_count": 77,
     "metadata": {},
     "output_type": "execute_result"
    }
   ],
   "source": [
    "d"
   ]
  },
  {
   "cell_type": "code",
   "execution_count": 78,
   "id": "12fbc0fb-18fb-4002-9ace-094deef94e82",
   "metadata": {},
   "outputs": [
    {
     "ename": "NameError",
     "evalue": "name 'now' is not defined",
     "output_type": "error",
     "traceback": [
      "\u001b[1;31m---------------------------------------------------------------------------\u001b[0m",
      "\u001b[1;31mNameError\u001b[0m                                 Traceback (most recent call last)",
      "Cell \u001b[1;32mIn[78], line 1\u001b[0m\n\u001b[1;32m----> 1\u001b[0m formatted \u001b[38;5;241m=\u001b[39m now\u001b[38;5;241m.\u001b[39mstrftime(\u001b[38;5;124m\"\u001b[39m\u001b[38;5;124m%\u001b[39m\u001b[38;5;124mY-\u001b[39m\u001b[38;5;124m%\u001b[39m\u001b[38;5;124mm-\u001b[39m\u001b[38;5;132;01m%d\u001b[39;00m\u001b[38;5;124m \u001b[39m\u001b[38;5;124m%\u001b[39m\u001b[38;5;124mH:\u001b[39m\u001b[38;5;124m%\u001b[39m\u001b[38;5;124mM:\u001b[39m\u001b[38;5;124m%\u001b[39m\u001b[38;5;124mS\u001b[39m\u001b[38;5;124m\"\u001b[39m)\n\u001b[0;32m      2\u001b[0m \u001b[38;5;28mprint\u001b[39m(formatted)\n",
      "\u001b[1;31mNameError\u001b[0m: name 'now' is not defined"
     ]
    }
   ],
   "source": [
    "formatted = now.strftime(\"%Y-%m-%d %H:%M:%S\")\n",
    "print(formatted)"
   ]
  },
  {
   "cell_type": "code",
   "execution_count": 79,
   "id": "c5e6335d-69c9-48e1-b54a-0a139d9cdd6d",
   "metadata": {},
   "outputs": [
    {
     "data": {
      "text/plain": [
       "datetime.datetime(2005, 8, 15, 0, 0)"
      ]
     },
     "execution_count": 79,
     "metadata": {},
     "output_type": "execute_result"
    }
   ],
   "source": [
    "d"
   ]
  },
  {
   "cell_type": "code",
   "execution_count": 94,
   "id": "6020be79-36d4-4076-99fe-e589fddc96f4",
   "metadata": {},
   "outputs": [
    {
     "data": {
      "text/plain": [
       "'19  August  2025'"
      ]
     },
     "execution_count": 94,
     "metadata": {},
     "output_type": "execute_result"
    }
   ],
   "source": [
    "datetime.strftime(datetime.now(), \"%d  %B  %Y\")"
   ]
  },
  {
   "cell_type": "code",
   "execution_count": 98,
   "id": "c1ebc41d-2cd3-4e16-9f55-418011a2156d",
   "metadata": {},
   "outputs": [
    {
     "data": {
      "text/plain": [
       "'c'"
      ]
     },
     "execution_count": 98,
     "metadata": {},
     "output_type": "execute_result"
    }
   ],
   "source": [
    "choice([\"a\", \"b\", \"c\", \"d\"])"
   ]
  },
  {
   "cell_type": "code",
   "execution_count": 119,
   "id": "b1c2832b-e083-4abb-9616-0e84abcf0f1c",
   "metadata": {},
   "outputs": [
    {
     "data": {
      "text/plain": [
       "['b', 'd', 'd']"
      ]
     },
     "execution_count": 119,
     "metadata": {},
     "output_type": "execute_result"
    }
   ],
   "source": [
    "choices([\"a\", \"b\", \"c\", \"d\"], k=3)"
   ]
  },
  {
   "cell_type": "code",
   "execution_count": null,
   "id": "a50efae6-cddf-4dbb-b359-c3e7026c4ff8",
   "metadata": {},
   "outputs": [],
   "source": [
    "random.choices()"
   ]
  }
 ],
 "metadata": {
  "kernelspec": {
   "display_name": "Python 3 (ipykernel)",
   "language": "python",
   "name": "python3"
  },
  "language_info": {
   "codemirror_mode": {
    "name": "ipython",
    "version": 3
   },
   "file_extension": ".py",
   "mimetype": "text/x-python",
   "name": "python",
   "nbconvert_exporter": "python",
   "pygments_lexer": "ipython3",
   "version": "3.12.7"
  }
 },
 "nbformat": 4,
 "nbformat_minor": 5
}

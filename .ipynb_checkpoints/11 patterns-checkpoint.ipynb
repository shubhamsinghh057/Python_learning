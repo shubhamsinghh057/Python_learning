{
 "cells": [
  {
   "cell_type": "code",
   "execution_count": 2,
   "id": "9dc92e17-2eb3-418f-9391-cb1efe767e85",
   "metadata": {},
   "outputs": [],
   "source": [
    "l = [\"Shubham\", \"abhi\", \"akash\"]"
   ]
  },
  {
   "cell_type": "code",
   "execution_count": 7,
   "id": "f64df91b-7b8d-4d50-bea1-1dc0709ece3b",
   "metadata": {},
   "outputs": [
    {
     "name": "stdout",
     "output_type": "stream",
     "text": [
      "S h u b h a m \n",
      "a b h i \n",
      "a k a s h \n"
     ]
    }
   ],
   "source": [
    "i = 0\n",
    "n = len(l)\n",
    "\n",
    "while i < n:\n",
    "    #print(l[i])\n",
    "    j = 0\n",
    "    m = len(l[i])\n",
    "    while j< m:\n",
    "        print(l[i][j], end=\" \")\n",
    "        j += 1\n",
    "\n",
    "    print()\n",
    "    i += 1"
   ]
  },
  {
   "cell_type": "code",
   "execution_count": 20,
   "id": "4da03692-b438-4f00-9c47-8ef1c77e37f6",
   "metadata": {},
   "outputs": [
    {
     "name": "stdout",
     "output_type": "stream",
     "text": [
      "01234\n",
      "01234\n",
      "01234\n",
      "01234\n",
      "01234\n"
     ]
    }
   ],
   "source": [
    "i = 0\n",
    "n = 5\n",
    "\n",
    "while i < n:\n",
    "    j = 0\n",
    "    while j < n:\n",
    "        print(j, end=\"\")\n",
    "        j += 1\n",
    "    \n",
    "    print()\n",
    "    i += 1"
   ]
  },
  {
   "cell_type": "code",
   "execution_count": 26,
   "id": "52ad6fc2-6fd5-49f2-9554-b08e86082db9",
   "metadata": {},
   "outputs": [
    {
     "name": "stdout",
     "output_type": "stream",
     "text": [
      "0\n",
      "11\n",
      "222\n",
      "3333\n",
      "44444\n"
     ]
    }
   ],
   "source": [
    "i = 0\n",
    "n = 5\n",
    "\n",
    "while i < n:\n",
    "    j = 0\n",
    "    while j < i+1:\n",
    "        print(i, end=\"\")\n",
    "        j += 1\n",
    "    \n",
    "    print()\n",
    "    i += 1"
   ]
  },
  {
   "cell_type": "code",
   "execution_count": 40,
   "id": "acb7b153-6d0a-403a-9316-872990454a4c",
   "metadata": {},
   "outputs": [
    {
     "name": "stdout",
     "output_type": "stream",
     "text": [
      "*****\n",
      "****\n",
      "***\n",
      "**\n",
      "*\n"
     ]
    }
   ],
   "source": [
    "i = 0\n",
    "n = 5\n",
    "\n",
    "while i < n:\n",
    "    j = 0\n",
    "    while j < n-i:\n",
    "        print(\"*\", end=\"\")\n",
    "        j += 1\n",
    "    \n",
    "    print()\n",
    "    i += 1"
   ]
  },
  {
   "cell_type": "code",
   "execution_count": 45,
   "id": "1b82a0bb-3834-43c8-9452-387f4750342d",
   "metadata": {},
   "outputs": [
    {
     "name": "stdout",
     "output_type": "stream",
     "text": [
      "*****\n",
      "*   *\n",
      "*   *\n",
      "*   *\n",
      "*****\n"
     ]
    }
   ],
   "source": [
    "i = 0\n",
    "n = 5\n",
    "while i < n:\n",
    "    j = 0\n",
    "    while j < n:\n",
    "        if i ==0 or i == n-1 or j == 0 or j == n-1:\n",
    "            print(\"*\", end=\"\")\n",
    "        else:\n",
    "            print(\" \", end=\"\")\n",
    "        j += 1\n",
    "    print()\n",
    "    i += 1"
   ]
  },
  {
   "cell_type": "code",
   "execution_count": 59,
   "id": "cc4dff22-6be7-489d-8e36-f42efdd44cdf",
   "metadata": {},
   "outputs": [
    {
     "name": "stdout",
     "output_type": "stream",
     "text": [
      "     *****\n",
      "    *****\n",
      "   *****\n",
      "  *****\n",
      " *****\n"
     ]
    }
   ],
   "source": [
    "i = 0\n",
    "n = 5\n",
    "\n",
    "while i < n:\n",
    "    k = 0\n",
    "    while k < n-i:\n",
    "        print(\" \", end=\"\")\n",
    "        k += 1\n",
    "        \n",
    "    j = 0\n",
    "    while j < n:\n",
    "        \n",
    "        print(\"*\", end=\"\")\n",
    "        j += 1\n",
    "    \n",
    "    print()\n",
    "    i += 1"
   ]
  },
  {
   "cell_type": "code",
   "execution_count": 71,
   "id": "a3723e98-7f2d-43ac-a122-1669661bf250",
   "metadata": {},
   "outputs": [
    {
     "name": "stdout",
     "output_type": "stream",
     "text": [
      "     \n",
      "    *\n",
      "   ***\n",
      "  *****\n",
      " *******\n"
     ]
    }
   ],
   "source": [
    "i = 0\n",
    "n = 5\n",
    "\n",
    "while i < n:\n",
    "    k = 0\n",
    "    while k < n-i:\n",
    "        print(\" \", end=\"\")\n",
    "        k += 1\n",
    "    \n",
    "    \n",
    "    j = 0\n",
    "    while j < (i)*2-1:\n",
    "        print(\"*\", end=\"\")\n",
    "        j += 1\n",
    "    \n",
    "    print()\n",
    "    i += 1"
   ]
  },
  {
   "cell_type": "code",
   "execution_count": null,
   "id": "acb9525e-e25e-4a14-a63e-be336d5b481a",
   "metadata": {},
   "outputs": [],
   "source": []
  }
 ],
 "metadata": {
  "kernelspec": {
   "display_name": "Python 3 (ipykernel)",
   "language": "python",
   "name": "python3"
  },
  "language_info": {
   "codemirror_mode": {
    "name": "ipython",
    "version": 3
   },
   "file_extension": ".py",
   "mimetype": "text/x-python",
   "name": "python",
   "nbconvert_exporter": "python",
   "pygments_lexer": "ipython3",
   "version": "3.12.7"
  }
 },
 "nbformat": 4,
 "nbformat_minor": 5
}

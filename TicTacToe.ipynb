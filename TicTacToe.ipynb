{
 "cells": [
  {
   "cell_type": "markdown",
   "id": "6f9cde39-e931-4b95-8519-614e8a44d80a",
   "metadata": {},
   "source": [
    "#### display"
   ]
  },
  {
   "cell_type": "code",
   "execution_count": 16,
   "id": "1686680c-c8a3-491a-b9ac-1e770f685c54",
   "metadata": {},
   "outputs": [],
   "source": [
    "li = [\" \"]*10"
   ]
  },
  {
   "cell_type": "code",
   "execution_count": 4,
   "id": "276a11df-9db2-4125-8392-17c2ff580cbc",
   "metadata": {},
   "outputs": [
    {
     "data": {
      "text/plain": [
       "[' ', ' ', ' ', ' ', ' ', ' ', ' ', ' ', ' ', ' ']"
      ]
     },
     "execution_count": 4,
     "metadata": {},
     "output_type": "execute_result"
    }
   ],
   "source": [
    "li"
   ]
  },
  {
   "cell_type": "code",
   "execution_count": 5,
   "id": "41647da5-3cc7-4a95-a907-099641b3612b",
   "metadata": {},
   "outputs": [],
   "source": [
    "li[5] = \"X\""
   ]
  },
  {
   "cell_type": "code",
   "execution_count": 6,
   "id": "2713c1cb-06c9-4ec2-a520-ab3611ae8b74",
   "metadata": {},
   "outputs": [],
   "source": [
    "def display():\n",
    "    print(li[7], \" | \", li[8], \" | \", li[9])\n",
    "    print(\"-\"*14)\n",
    "    print(li[4], \" | \", li[5], \" | \", li[6])\n",
    "    print(\"-\"*14)\n",
    "    print(li[1], \" | \", li[2], \" | \", li[3])\n",
    "    "
   ]
  },
  {
   "cell_type": "code",
   "execution_count": 7,
   "id": "e3e68252-79ae-4609-b3cb-f6cb7b219389",
   "metadata": {},
   "outputs": [],
   "source": [
    "def empty_positions():\n",
    "    ans = []\n",
    "    for i in range(1, len(li)):\n",
    "        if li[i] == \" \":\n",
    "            ans.append(i)\n",
    "    return ans"
   ]
  },
  {
   "cell_type": "code",
   "execution_count": 8,
   "id": "84b7ade3-55cd-4ee4-a38b-323308239f33",
   "metadata": {},
   "outputs": [],
   "source": [
    "def take_position():\n",
    "    position = None\n",
    "    available = empty_positions()\n",
    "    while position is None:\n",
    "        try:\n",
    "            position = int(input(f'please chose among {available}'))\n",
    "        except ValueError:\n",
    "            print(f\"please provide a number among {available}\")\n",
    "        else:\n",
    "            if position in available:\n",
    "                return position\n",
    "            else:\n",
    "                print(f\"please provide a number among {available}\")\n",
    "                position = None"
   ]
  },
  {
   "cell_type": "code",
   "execution_count": 9,
   "id": "83f1f479-383b-40e0-9e92-b5d4485120a3",
   "metadata": {},
   "outputs": [],
   "source": [
    "def put_marker(position, marker):\n",
    "    li[position] = marker"
   ]
  },
  {
   "cell_type": "code",
   "execution_count": 10,
   "id": "d388e186-553f-4708-b217-b310dc2f5934",
   "metadata": {},
   "outputs": [
    {
     "data": {
      "text/plain": [
       "[1, 2, 3, 4, 6, 7, 8, 9]"
      ]
     },
     "execution_count": 10,
     "metadata": {},
     "output_type": "execute_result"
    }
   ],
   "source": [
    "empty_positions()"
   ]
  },
  {
   "cell_type": "code",
   "execution_count": 36,
   "id": "562016b0-ea04-49d8-a56c-ec3ca172c1fd",
   "metadata": {},
   "outputs": [],
   "source": [
    "li[6]  = \"O\""
   ]
  },
  {
   "cell_type": "code",
   "execution_count": 37,
   "id": "6df74cf0-676e-4e48-8c1f-66a54d3eeb02",
   "metadata": {},
   "outputs": [
    {
     "name": "stdout",
     "output_type": "stream",
     "text": [
      "X  |  X  |  O\n",
      "--------------\n",
      "   |  O  |  O\n",
      "--------------\n",
      "X  |     |  O\n"
     ]
    }
   ],
   "source": [
    "display()"
   ]
  },
  {
   "cell_type": "code",
   "execution_count": 38,
   "id": "dff28611-23ab-4f64-914e-6d6d9cbdaee9",
   "metadata": {},
   "outputs": [
    {
     "data": {
      "text/plain": [
       "True"
      ]
     },
     "execution_count": 38,
     "metadata": {},
     "output_type": "execute_result"
    }
   ],
   "source": [
    "check_win()"
   ]
  },
  {
   "cell_type": "code",
   "execution_count": 39,
   "id": "13523c84-529d-4db9-9dd5-249c3f9599c8",
   "metadata": {},
   "outputs": [],
   "source": [
    "def check_win():\n",
    "    # horizontal\n",
    "    if (li[7]==li[8]==li[9]!=\" \") or \\\n",
    "    (li[4]==li[5]==li[6]!=\" \") or \\\n",
    "    (li[1]==li[2]==li[3]!=\" \") or \\\n",
    "    (li[7]==li[4]==li[1]!=\" \") or \\\n",
    "    (li[8]==li[5]==li[2]!=\" \") or \\\n",
    "    (li[9]==li[6]==li[3]!=\" \") or \\\n",
    "    (li[7]==li[5]==li[3]!=\" \") or \\\n",
    "    (li[1]==li[5]==li[9]!=\" \"):\n",
    "        return True\n",
    "    else:\n",
    "        return False"
   ]
  },
  {
   "cell_type": "code",
   "execution_count": 42,
   "id": "f077d004-4c65-4b69-aa2b-8b51e71e6198",
   "metadata": {},
   "outputs": [],
   "source": [
    "def board_full():\n",
    "    if len(empty_positions())==0:\n",
    "        return True\n",
    "    else:\n",
    "        return False"
   ]
  },
  {
   "cell_type": "code",
   "execution_count": 40,
   "id": "c2ad50ee-e47f-496b-8791-f682d348f3b7",
   "metadata": {},
   "outputs": [],
   "source": [
    "def change_marker(marker):\n",
    "    if marker == \"O\":\n",
    "        return \"X\"\n",
    "    else:\n",
    "        return \"O\""
   ]
  },
  {
   "cell_type": "code",
   "execution_count": 44,
   "id": "708779b5-85dd-4374-860e-d571f4591681",
   "metadata": {},
   "outputs": [
    {
     "name": "stdout",
     "output_type": "stream",
     "text": [
      "   |     |   \n",
      "--------------\n",
      "   |     |   \n",
      "--------------\n",
      "   |     |   \n"
     ]
    },
    {
     "name": "stdin",
     "output_type": "stream",
     "text": [
      "please chose among [1, 2, 3, 4, 5, 6, 7, 8, 9] 5\n"
     ]
    },
    {
     "name": "stdout",
     "output_type": "stream",
     "text": [
      "   |     |   \n",
      "--------------\n",
      "   |  O  |   \n",
      "--------------\n",
      "   |     |   \n",
      "   |     |   \n",
      "--------------\n",
      "   |  O  |   \n",
      "--------------\n",
      "   |     |   \n"
     ]
    },
    {
     "name": "stdin",
     "output_type": "stream",
     "text": [
      "please chose among [1, 2, 3, 4, 6, 7, 8, 9] 6\n"
     ]
    },
    {
     "name": "stdout",
     "output_type": "stream",
     "text": [
      "   |     |   \n",
      "--------------\n",
      "   |  O  |  X\n",
      "--------------\n",
      "   |     |   \n",
      "   |     |   \n",
      "--------------\n",
      "   |  O  |  X\n",
      "--------------\n",
      "   |     |   \n"
     ]
    },
    {
     "name": "stdin",
     "output_type": "stream",
     "text": [
      "please chose among [1, 2, 3, 4, 7, 8, 9] 9\n"
     ]
    },
    {
     "name": "stdout",
     "output_type": "stream",
     "text": [
      "   |     |  O\n",
      "--------------\n",
      "   |  O  |  X\n",
      "--------------\n",
      "   |     |   \n",
      "   |     |  O\n",
      "--------------\n",
      "   |  O  |  X\n",
      "--------------\n",
      "   |     |   \n"
     ]
    },
    {
     "name": "stdin",
     "output_type": "stream",
     "text": [
      "please chose among [1, 2, 3, 4, 7, 8] 1\n"
     ]
    },
    {
     "name": "stdout",
     "output_type": "stream",
     "text": [
      "   |     |  O\n",
      "--------------\n",
      "   |  O  |  X\n",
      "--------------\n",
      "X  |     |   \n",
      "   |     |  O\n",
      "--------------\n",
      "   |  O  |  X\n",
      "--------------\n",
      "X  |     |   \n"
     ]
    },
    {
     "name": "stdin",
     "output_type": "stream",
     "text": [
      "please chose among [2, 3, 4, 7, 8] 7\n"
     ]
    },
    {
     "name": "stdout",
     "output_type": "stream",
     "text": [
      "O  |     |  O\n",
      "--------------\n",
      "   |  O  |  X\n",
      "--------------\n",
      "X  |     |   \n",
      "O  |     |  O\n",
      "--------------\n",
      "   |  O  |  X\n",
      "--------------\n",
      "X  |     |   \n"
     ]
    },
    {
     "name": "stdin",
     "output_type": "stream",
     "text": [
      "please chose among [2, 3, 4, 8] 8\n"
     ]
    },
    {
     "name": "stdout",
     "output_type": "stream",
     "text": [
      "O  |  X  |  O\n",
      "--------------\n",
      "   |  O  |  X\n",
      "--------------\n",
      "X  |     |   \n",
      "O  |  X  |  O\n",
      "--------------\n",
      "   |  O  |  X\n",
      "--------------\n",
      "X  |     |   \n"
     ]
    },
    {
     "name": "stdin",
     "output_type": "stream",
     "text": [
      "please chose among [2, 3, 4] 3\n"
     ]
    },
    {
     "name": "stdout",
     "output_type": "stream",
     "text": [
      "O  |  X  |  O\n",
      "--------------\n",
      "   |  O  |  X\n",
      "--------------\n",
      "X  |     |  O\n",
      "congo O won the game\n"
     ]
    }
   ],
   "source": [
    "li = [\" \"]*10\n",
    "game = True\n",
    "marker = \"O\"\n",
    "while game:\n",
    "    display()\n",
    "    position = take_position()\n",
    "    put_marker(position, marker)\n",
    "    display()\n",
    "    if check_win():\n",
    "        print(f\"congo {marker} won the game\")\n",
    "        game = False\n",
    "        break\n",
    "    elif board_full():\n",
    "        print(f'board full, game draw, do you want to play again')\n",
    "        game = False\n",
    "        break\n",
    "    else:\n",
    "        marker = change_marker(marker)"
   ]
  },
  {
   "cell_type": "code",
   "execution_count": 45,
   "id": "f203fc1c-ef49-4a29-ae89-bebf01172ee8",
   "metadata": {},
   "outputs": [
    {
     "name": "stdin",
     "output_type": "stream",
     "text": [
      " 5\n"
     ]
    },
    {
     "data": {
      "text/plain": [
       "'5'"
      ]
     },
     "execution_count": 45,
     "metadata": {},
     "output_type": "execute_result"
    }
   ],
   "source": [
    "input()"
   ]
  },
  {
   "cell_type": "code",
   "execution_count": null,
   "id": "3c0e131c-1c39-4116-a91f-62dfea8803ec",
   "metadata": {},
   "outputs": [],
   "source": []
  }
 ],
 "metadata": {
  "kernelspec": {
   "display_name": "Python 3 (ipykernel)",
   "language": "python",
   "name": "python3"
  },
  "language_info": {
   "codemirror_mode": {
    "name": "ipython",
    "version": 3
   },
   "file_extension": ".py",
   "mimetype": "text/x-python",
   "name": "python",
   "nbconvert_exporter": "python",
   "pygments_lexer": "ipython3",
   "version": "3.12.7"
  }
 },
 "nbformat": 4,
 "nbformat_minor": 5
}

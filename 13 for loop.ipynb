{
 "cells": [
  {
   "cell_type": "code",
   "execution_count": 1,
   "id": "1a76c1c6-c52f-4af2-b99d-af8797c9b904",
   "metadata": {},
   "outputs": [
    {
     "name": "stdout",
     "output_type": "stream",
     "text": [
      "0\n",
      "1\n",
      "2\n",
      "3\n",
      "4\n"
     ]
    }
   ],
   "source": [
    "i = 0\n",
    "n = 5\n",
    "while i < n:\n",
    "    print(i)\n",
    "    i += 1"
   ]
  },
  {
   "cell_type": "code",
   "execution_count": 7,
   "id": "dfe95553-8f60-45b7-bcf3-6e10045a53b9",
   "metadata": {},
   "outputs": [
    {
     "name": "stdout",
     "output_type": "stream",
     "text": [
      "4\n",
      "3\n",
      "2\n",
      "1\n",
      "0\n"
     ]
    }
   ],
   "source": [
    "i = 5\n",
    "n = 0\n",
    "while i > n:\n",
    "    print(i-1)\n",
    "    i -= 1"
   ]
  },
  {
   "cell_type": "code",
   "execution_count": 3,
   "id": "68474f70-72f8-4b29-80df-2e8662f8ede3",
   "metadata": {},
   "outputs": [
    {
     "name": "stdout",
     "output_type": "stream",
     "text": [
      "5\n",
      "4\n",
      "3\n",
      "2\n",
      "1\n"
     ]
    }
   ],
   "source": [
    "i = 5\n",
    "while i:\n",
    "    print(i)\n",
    "    i -= 1"
   ]
  },
  {
   "cell_type": "code",
   "execution_count": 6,
   "id": "bee65fb7-04cc-4ada-a6ce-0eb5d3a3d3de",
   "metadata": {},
   "outputs": [
    {
     "name": "stdout",
     "output_type": "stream",
     "text": [
      "5\n",
      "4\n",
      "3\n",
      "2\n",
      "1\n"
     ]
    }
   ],
   "source": [
    "i = 0\n",
    "n = 5\n",
    "while i < n:\n",
    "    print(n-i)\n",
    "    i += 1"
   ]
  },
  {
   "cell_type": "code",
   "execution_count": 8,
   "id": "ad86185a-02c2-45d6-a930-272238289ffb",
   "metadata": {},
   "outputs": [],
   "source": [
    "name = \"Shubham\""
   ]
  },
  {
   "cell_type": "code",
   "execution_count": 9,
   "id": "6b796e7b-2d04-4471-ad41-b9218a7af7a4",
   "metadata": {},
   "outputs": [
    {
     "name": "stdout",
     "output_type": "stream",
     "text": [
      "hi\n",
      "hi\n",
      "hi\n",
      "hi\n",
      "hi\n",
      "hi\n",
      "hi\n"
     ]
    }
   ],
   "source": [
    "for alphabet in name:\n",
    "    print('hi')"
   ]
  },
  {
   "cell_type": "code",
   "execution_count": 11,
   "id": "b830b182-645b-4fdf-8c2f-7c18cf93df82",
   "metadata": {},
   "outputs": [],
   "source": [
    "name = \"shubham\""
   ]
  },
  {
   "cell_type": "code",
   "execution_count": 12,
   "id": "a2049e09-0dce-4334-9fdf-f9883552d28b",
   "metadata": {},
   "outputs": [
    {
     "name": "stdout",
     "output_type": "stream",
     "text": [
      "s\n",
      "h\n",
      "u\n",
      "b\n",
      "h\n",
      "a\n",
      "m\n"
     ]
    }
   ],
   "source": [
    "for alphabet in name:\n",
    "    print(alphabet)"
   ]
  },
  {
   "cell_type": "code",
   "execution_count": 13,
   "id": "3f8c90f7-5b29-4fb4-8a64-6618011965ea",
   "metadata": {},
   "outputs": [
    {
     "name": "stdout",
     "output_type": "stream",
     "text": [
      "tamatr\n",
      "pyaz\n",
      "aloo\n",
      "bhindi\n"
     ]
    }
   ],
   "source": [
    "parchi = ['tamatr', 'pyaz', 'aloo', 'bhindi']\n",
    "\n",
    "for sabzi in parchi:\n",
    "    print(sabzi)"
   ]
  },
  {
   "cell_type": "code",
   "execution_count": 16,
   "id": "c7b4a86f-ccf7-4f5b-838e-5a212e126941",
   "metadata": {},
   "outputs": [
    {
     "name": "stdout",
     "output_type": "stream",
     "text": [
      "hello shubham\n",
      "hello akash\n",
      "hello abhishek\n",
      "hello cintu\n"
     ]
    }
   ],
   "source": [
    "course = ['shubham', 'akash', 'abhishek', 'cintu']\n",
    "for person in course:\n",
    "    print(\"hello\", person)\n"
   ]
  },
  {
   "cell_type": "code",
   "execution_count": 17,
   "id": "43abf5c0-453c-4072-8d2e-21726eb4c7a0",
   "metadata": {},
   "outputs": [
    {
     "name": "stdout",
     "output_type": "stream",
     "text": [
      "4\n",
      "5\n",
      "6\n",
      "7\n",
      "8\n"
     ]
    }
   ],
   "source": [
    "s = {8,5,6,4,7}\n",
    "for i in s:\n",
    "    print(i)"
   ]
  },
  {
   "cell_type": "code",
   "execution_count": 30,
   "id": "62b99eab-f6e3-433d-b1ec-d6cb250184ce",
   "metadata": {},
   "outputs": [
    {
     "name": "stdout",
     "output_type": "stream",
     "text": [
      "S\n",
      "h\n",
      "u\n",
      "b\n",
      "h\n",
      "a\n",
      "m\n"
     ]
    }
   ],
   "source": [
    "name = \"Shubham\"\n",
    "i = 0\n",
    "n = len(name)\n",
    "while i < n:\n",
    "    print(name[i])\n",
    "    i += 1"
   ]
  },
  {
   "cell_type": "code",
   "execution_count": 19,
   "id": "c6918f1a-ddb8-4471-a681-76dd52e54d18",
   "metadata": {},
   "outputs": [
    {
     "name": "stdout",
     "output_type": "stream",
     "text": [
      "0\n",
      "1\n",
      "2\n",
      "3\n",
      "4\n"
     ]
    }
   ],
   "source": [
    "for i in range(5):\n",
    "    print(i)"
   ]
  },
  {
   "cell_type": "code",
   "execution_count": 34,
   "id": "2639eee1-308b-432e-96e5-4f8173946f14",
   "metadata": {},
   "outputs": [
    {
     "name": "stdout",
     "output_type": "stream",
     "text": [
      "S\n",
      "h\n",
      "u\n",
      "b\n",
      "h\n",
      "a\n",
      "m\n"
     ]
    }
   ],
   "source": [
    "name = \"Shubham\"\n",
    "for i in range(len(name)):\n",
    "    #print(i)\n",
    "    print(name[i])"
   ]
  },
  {
   "cell_type": "code",
   "execution_count": null,
   "id": "794eab9c-1c5b-495a-987c-9f1854f716cb",
   "metadata": {},
   "outputs": [],
   "source": []
  },
  {
   "cell_type": "code",
   "execution_count": 3,
   "id": "05778c39-66fd-4063-8d2c-e8fec262cdf3",
   "metadata": {},
   "outputs": [],
   "source": [
    "li = ['Shubham', \"abhi\", \"akash\"]"
   ]
  },
  {
   "cell_type": "code",
   "execution_count": 5,
   "id": "f8f91418-2cf3-4eba-b0dd-45fe36d800e0",
   "metadata": {},
   "outputs": [
    {
     "name": "stdout",
     "output_type": "stream",
     "text": [
      "Shubham\n",
      "abhi\n",
      "akash\n"
     ]
    }
   ],
   "source": [
    "for i in li:\n",
    "    print(i)"
   ]
  },
  {
   "cell_type": "code",
   "execution_count": 8,
   "id": "a770258f-534e-474c-80d3-7499cce97d36",
   "metadata": {},
   "outputs": [
    {
     "name": "stdout",
     "output_type": "stream",
     "text": [
      "Note: you may need to restart the kernel to use updated packages.\n"
     ]
    },
    {
     "name": "stderr",
     "output_type": "stream",
     "text": [
      "ERROR: Could not find a version that satisfies the requirement random (from versions: none)\n",
      "ERROR: No matching distribution found for random\n"
     ]
    }
   ],
   "source": [
    "pip install random"
   ]
  },
  {
   "cell_type": "code",
   "execution_count": 9,
   "id": "75ce87cf-65c9-42b7-8ad3-2b7058c93382",
   "metadata": {},
   "outputs": [
    {
     "name": "stdout",
     "output_type": "stream",
     "text": [
      "Requirement already satisfied: pandas in c:\\users\\hp\\anaconda3\\lib\\site-packages (2.2.2)\n",
      "Requirement already satisfied: numpy>=1.26.0 in c:\\users\\hp\\anaconda3\\lib\\site-packages (from pandas) (1.26.4)\n",
      "Requirement already satisfied: python-dateutil>=2.8.2 in c:\\users\\hp\\anaconda3\\lib\\site-packages (from pandas) (2.9.0.post0)\n",
      "Requirement already satisfied: pytz>=2020.1 in c:\\users\\hp\\anaconda3\\lib\\site-packages (from pandas) (2024.1)\n",
      "Requirement already satisfied: tzdata>=2022.7 in c:\\users\\hp\\anaconda3\\lib\\site-packages (from pandas) (2023.3)\n",
      "Requirement already satisfied: six>=1.5 in c:\\users\\hp\\anaconda3\\lib\\site-packages (from python-dateutil>=2.8.2->pandas) (1.16.0)\n",
      "Note: you may need to restart the kernel to use updated packages.\n"
     ]
    }
   ],
   "source": [
    "pip install pandas"
   ]
  },
  {
   "cell_type": "code",
   "execution_count": 10,
   "id": "1ddf47bb-5a4f-4e8d-ac7e-654009ef3e32",
   "metadata": {},
   "outputs": [],
   "source": [
    "import random"
   ]
  },
  {
   "cell_type": "code",
   "execution_count": 24,
   "id": "3a6b5fc2-361f-44a8-ab3a-30b913526e13",
   "metadata": {},
   "outputs": [
    {
     "data": {
      "text/plain": [
       "7"
      ]
     },
     "execution_count": 24,
     "metadata": {},
     "output_type": "execute_result"
    }
   ],
   "source": [
    "random.randint(1,10)"
   ]
  },
  {
   "cell_type": "code",
   "execution_count": 29,
   "id": "cd289864-5c98-4e66-8b35-45981702af5f",
   "metadata": {},
   "outputs": [
    {
     "name": "stdout",
     "output_type": "stream",
     "text": [
      "1 9 3 8 6 1 1 1 4 7 4 6 9 10 1 "
     ]
    },
    {
     "data": {
      "text/plain": [
       "[1, 9, 3, 8, 6, 1, 1, 1, 4, 7, 4, 6, 9, 10, 1]"
      ]
     },
     "execution_count": 29,
     "metadata": {},
     "output_type": "execute_result"
    }
   ],
   "source": [
    "li = []\n",
    "\n",
    "for i in range(15):\n",
    "    num = random.randint(1, 10)\n",
    "    print(num, end=\" \")\n",
    "    li.append(num)\n",
    "\n",
    "li"
   ]
  },
  {
   "cell_type": "code",
   "execution_count": 31,
   "id": "3b6efd3b-f021-4f2f-af80-ffdde655a601",
   "metadata": {},
   "outputs": [
    {
     "name": "stdout",
     "output_type": "stream",
     "text": [
      "[2, 3, 4, 5]\n",
      "[4, 9, 16, 25]\n"
     ]
    }
   ],
   "source": [
    "li = [2,3,4,5]\n",
    "a = []\n",
    "for i in li:\n",
    "    s = i ** 2\n",
    "    a.append(s)\n",
    "\n",
    "print(li)\n",
    "print(a)"
   ]
  },
  {
   "cell_type": "code",
   "execution_count": 33,
   "id": "8147cbe6-39c3-419c-823d-65dc0f9674fc",
   "metadata": {},
   "outputs": [
    {
     "data": {
      "text/plain": [
       "[8, 4, 9, 7, 9]"
      ]
     },
     "execution_count": 33,
     "metadata": {},
     "output_type": "execute_result"
    }
   ],
   "source": [
    "a = []\n",
    "for i in range(5):\n",
    "    a.append(random.randint(1,10))\n",
    "a"
   ]
  },
  {
   "cell_type": "code",
   "execution_count": 41,
   "id": "64e28973-89c7-46ca-a0fe-9e452397d7c8",
   "metadata": {},
   "outputs": [
    {
     "data": {
      "text/plain": [
       "[6, 2, 9, 3, 6]"
      ]
     },
     "execution_count": 41,
     "metadata": {},
     "output_type": "execute_result"
    }
   ],
   "source": [
    "a = [random.randint(1,10) for i in range(5)]\n",
    "a"
   ]
  },
  {
   "cell_type": "code",
   "execution_count": 38,
   "id": "3b36d066-6e61-4488-bc54-a3339c6ec7f9",
   "metadata": {},
   "outputs": [
    {
     "data": {
      "text/plain": [
       "[0, 1, 2, 3, 4]"
      ]
     },
     "execution_count": 38,
     "metadata": {},
     "output_type": "execute_result"
    }
   ],
   "source": [
    "a = [i for i in range(5)]\n",
    "a"
   ]
  },
  {
   "cell_type": "code",
   "execution_count": 42,
   "id": "9446008d-8a35-4a9f-b782-1fd524bb7a74",
   "metadata": {},
   "outputs": [
    {
     "data": {
      "text/plain": [
       "[6, 2, 9, 3, 6]"
      ]
     },
     "execution_count": 42,
     "metadata": {},
     "output_type": "execute_result"
    }
   ],
   "source": [
    "a"
   ]
  },
  {
   "cell_type": "code",
   "execution_count": 47,
   "id": "183bb5db-aa9a-4b59-ac8d-37ece1f0b51f",
   "metadata": {},
   "outputs": [
    {
     "name": "stdout",
     "output_type": "stream",
     "text": [
      "[6, 2, 9, 3, 6]\n",
      "[36, 4, 81, 9, 36]\n"
     ]
    }
   ],
   "source": [
    "l = [i**2 for i in a]\n",
    "print(a)\n",
    "print(l)"
   ]
  },
  {
   "cell_type": "code",
   "execution_count": 50,
   "id": "98fb2fd0-badc-47c2-8a0f-a0f39dcd2b52",
   "metadata": {},
   "outputs": [
    {
     "name": "stdout",
     "output_type": "stream",
     "text": [
      "[6, 2, 9, 3, 6]\n",
      "[36, 4, 81, 9, 36]\n"
     ]
    }
   ],
   "source": [
    "l = [a[i]**2 for i in range(len(a))]\n",
    "print(a)\n",
    "print(l)"
   ]
  },
  {
   "cell_type": "code",
   "execution_count": 51,
   "id": "cd166728-8d8f-4e5e-8580-40fa24b38bf1",
   "metadata": {},
   "outputs": [
    {
     "name": "stdout",
     "output_type": "stream",
     "text": [
      "[6, 2, 9, 3, 6]\n",
      "[36, 4, 81, 9, 36]\n"
     ]
    }
   ],
   "source": [
    "print(a)\n",
    "l = []\n",
    "for i in range(len(a)):\n",
    "    l.append(a[i]**2)\n",
    "print(l)"
   ]
  },
  {
   "cell_type": "code",
   "execution_count": 55,
   "id": "c42473ce-f2f0-4923-9e07-6d168075b210",
   "metadata": {},
   "outputs": [],
   "source": [
    "(a , b) = (5,6)"
   ]
  },
  {
   "cell_type": "code",
   "execution_count": 56,
   "id": "fbf4168a-f6bd-404d-b531-302486897b83",
   "metadata": {},
   "outputs": [
    {
     "data": {
      "text/plain": [
       "5"
      ]
     },
     "execution_count": 56,
     "metadata": {},
     "output_type": "execute_result"
    }
   ],
   "source": [
    "a"
   ]
  },
  {
   "cell_type": "code",
   "execution_count": 57,
   "id": "da2d6fbc-069a-4dc0-b3fd-4163a06afc67",
   "metadata": {},
   "outputs": [
    {
     "data": {
      "text/plain": [
       "6"
      ]
     },
     "execution_count": 57,
     "metadata": {},
     "output_type": "execute_result"
    }
   ],
   "source": [
    "b"
   ]
  },
  {
   "cell_type": "code",
   "execution_count": 58,
   "id": "19438d8b-d0f2-4e5e-867d-dfadd735df6b",
   "metadata": {},
   "outputs": [],
   "source": [
    "name = ['shubham', 'akash', 'abhi']\n",
    "age = [20,25,30]"
   ]
  },
  {
   "cell_type": "code",
   "execution_count": 61,
   "id": "038a5233-f79e-4551-9ce9-b7c8dcb4b7fb",
   "metadata": {},
   "outputs": [],
   "source": [
    "d = {}\n",
    "for i, j in zip(name, age):\n",
    "    d[i] = j"
   ]
  },
  {
   "cell_type": "code",
   "execution_count": 62,
   "id": "7df02fd7-9a46-44b7-9658-4f09ef50585b",
   "metadata": {},
   "outputs": [
    {
     "data": {
      "text/plain": [
       "{'shubham': 20, 'akash': 25, 'abhi': 30}"
      ]
     },
     "execution_count": 62,
     "metadata": {},
     "output_type": "execute_result"
    }
   ],
   "source": [
    "d"
   ]
  },
  {
   "cell_type": "code",
   "execution_count": 66,
   "id": "e21acec9-241f-403e-a77d-00d1a58240f3",
   "metadata": {},
   "outputs": [
    {
     "data": {
      "text/plain": [
       "{20: 'shubham', 25: 'akash', 30: 'abhi'}"
      ]
     },
     "execution_count": 66,
     "metadata": {},
     "output_type": "execute_result"
    }
   ],
   "source": [
    "{j:i for i, j in zip(name, age)}"
   ]
  },
  {
   "cell_type": "code",
   "execution_count": null,
   "id": "9e6addc2-47ac-4fb8-b994-12d2c55d39b7",
   "metadata": {},
   "outputs": [],
   "source": []
  }
 ],
 "metadata": {
  "kernelspec": {
   "display_name": "Python 3 (ipykernel)",
   "language": "python",
   "name": "python3"
  },
  "language_info": {
   "codemirror_mode": {
    "name": "ipython",
    "version": 3
   },
   "file_extension": ".py",
   "mimetype": "text/x-python",
   "name": "python",
   "nbconvert_exporter": "python",
   "pygments_lexer": "ipython3",
   "version": "3.12.7"
  }
 },
 "nbformat": 4,
 "nbformat_minor": 5
}

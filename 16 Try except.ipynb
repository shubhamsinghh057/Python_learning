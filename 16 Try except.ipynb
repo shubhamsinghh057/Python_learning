{
 "cells": [
  {
   "cell_type": "code",
   "execution_count": 1,
   "id": "9bdc0383-d734-47ef-8341-1ebf2759f746",
   "metadata": {},
   "outputs": [
    {
     "name": "stdout",
     "output_type": "stream",
     "text": [
      "hi\n"
     ]
    },
    {
     "ename": "ZeroDivisionError",
     "evalue": "division by zero",
     "output_type": "error",
     "traceback": [
      "\u001b[1;31m---------------------------------------------------------------------------\u001b[0m",
      "\u001b[1;31mZeroDivisionError\u001b[0m                         Traceback (most recent call last)",
      "Cell \u001b[1;32mIn[1], line 2\u001b[0m\n\u001b[0;32m      1\u001b[0m \u001b[38;5;28mprint\u001b[39m(\u001b[38;5;124m'\u001b[39m\u001b[38;5;124mhi\u001b[39m\u001b[38;5;124m'\u001b[39m)\n\u001b[1;32m----> 2\u001b[0m \u001b[38;5;28mprint\u001b[39m(\u001b[38;5;241m5\u001b[39m\u001b[38;5;241m/\u001b[39m\u001b[38;5;241m0\u001b[39m)\n\u001b[0;32m      3\u001b[0m \u001b[38;5;28mprint\u001b[39m(\u001b[38;5;124m'\u001b[39m\u001b[38;5;124mhello\u001b[39m\u001b[38;5;124m'\u001b[39m)\n",
      "\u001b[1;31mZeroDivisionError\u001b[0m: division by zero"
     ]
    }
   ],
   "source": [
    "print('hi')\n",
    "print(5/0)\n",
    "print('hello')"
   ]
  },
  {
   "cell_type": "code",
   "execution_count": 2,
   "id": "5542ff4e-acbd-4272-96d2-e90de9a4fb15",
   "metadata": {},
   "outputs": [
    {
     "name": "stdout",
     "output_type": "stream",
     "text": [
      "hi\n",
      "nhi chala code\n"
     ]
    }
   ],
   "source": [
    "try:\n",
    "    print(\"hi\")\n",
    "    print(5/0)\n",
    "    print('hello')\n",
    "\n",
    "except:\n",
    "    print('nhi chala code')"
   ]
  },
  {
   "cell_type": "code",
   "execution_count": 3,
   "id": "8575e539-8c74-463e-9a91-99e7d5ae3aec",
   "metadata": {},
   "outputs": [
    {
     "name": "stdout",
     "output_type": "stream",
     "text": [
      "hi\n",
      "nhi chala code\n"
     ]
    }
   ],
   "source": [
    "try:\n",
    "    print(\"hi\")\n",
    "    print(5/0)\n",
    "    print('hello')\n",
    "\n",
    "except:\n",
    "    print('nhi chala code')\n",
    "else:\n",
    "    print('hello')"
   ]
  },
  {
   "cell_type": "code",
   "execution_count": 8,
   "id": "d8788062-654d-4f50-8466-6c7ca9e764d1",
   "metadata": {},
   "outputs": [
    {
     "name": "stdout",
     "output_type": "stream",
     "text": [
      "hi\n",
      "nhi chala code\n"
     ]
    }
   ],
   "source": [
    "try:\n",
    "    print(\"hi\")\n",
    "    print(5/0)\n",
    "    print('hello')\n",
    "\n",
    "except:\n",
    "    print('nhi chala code')\n",
    "else:\n",
    "    print('else work kr rha h ')"
   ]
  },
  {
   "cell_type": "code",
   "execution_count": 11,
   "id": "09b7fbfc-8441-4f09-89dc-27b767b875be",
   "metadata": {},
   "outputs": [
    {
     "name": "stdout",
     "output_type": "stream",
     "text": [
      "hi\n",
      "nhi chala code\n",
      "finnaly run hua\n"
     ]
    }
   ],
   "source": [
    "try:\n",
    "    print(\"hi\")\n",
    "    print(5/0)\n",
    "    print('hello')\n",
    "\n",
    "except:\n",
    "    print('nhi chala code')\n",
    "else:\n",
    "    print('else work kr rha h ')\n",
    "finally:\n",
    "    print('finnaly run hua')"
   ]
  },
  {
   "cell_type": "code",
   "execution_count": 16,
   "id": "03b51422-18c5-4242-bf3b-7576c2e7e049",
   "metadata": {},
   "outputs": [
    {
     "name": "stdout",
     "output_type": "stream",
     "text": [
      "hi\n",
      "ZeroDivisionError aya h \n",
      "finnaly run hua\n"
     ]
    }
   ],
   "source": [
    "try:\n",
    "    print(\"hi\")\n",
    "    print(5/0)\n",
    "    print('hello')\n",
    "\n",
    "except ZeroDivisionError:\n",
    "    print(\"ZeroDivisionError aya h \")\n",
    "except:\n",
    "    print('error h ')\n",
    "else:\n",
    "    print('else work kr rha h ')\n",
    "finally:\n",
    "    print('finnaly run hua')"
   ]
  },
  {
   "cell_type": "code",
   "execution_count": 17,
   "id": "8a7fc5e6-77eb-45fd-b219-fe07cb8eb3ce",
   "metadata": {},
   "outputs": [
    {
     "name": "stdout",
     "output_type": "stream",
     "text": [
      "hi\n",
      "error h \n",
      "finnaly run hua\n"
     ]
    }
   ],
   "source": [
    "try:\n",
    "    print(\"hi\")\n",
    "    print(int(\"Shubham\"))\n",
    "    print('hello')\n",
    "\n",
    "except ZeroDivisionError:\n",
    "    print(\"ZeroDivisionError aya h \")\n",
    "except:\n",
    "    print('error h ')\n",
    "else:\n",
    "    print('else work kr rha h ')\n",
    "finally:\n",
    "    print('finnaly run hua')"
   ]
  },
  {
   "cell_type": "code",
   "execution_count": 24,
   "id": "b1f05ee0-6634-440f-9781-2dd4b76330ca",
   "metadata": {},
   "outputs": [
    {
     "name": "stdout",
     "output_type": "stream",
     "text": [
      "hi\n",
      "error h \n",
      "finnaly run hua\n"
     ]
    }
   ],
   "source": [
    "try:\n",
    "    print(\"hi\")\n",
    "    print(int(\"Shubham\"))\n",
    "    print('hello')\n",
    "\n",
    "except ZeroDivisionError as e:\n",
    "    print(e)\n",
    "except:\n",
    "    print('error h ')\n",
    "else:\n",
    "    print('else work kr rha h ')\n",
    "finally:\n",
    "    print('finnaly run hua')"
   ]
  },
  {
   "cell_type": "code",
   "execution_count": 20,
   "id": "7ee50b60-874b-4a61-9280-cf10181ecf4b",
   "metadata": {},
   "outputs": [
    {
     "ename": "ZeroDivisionError",
     "evalue": "division by zero",
     "output_type": "error",
     "traceback": [
      "\u001b[1;31m---------------------------------------------------------------------------\u001b[0m",
      "\u001b[1;31mZeroDivisionError\u001b[0m                         Traceback (most recent call last)",
      "Cell \u001b[1;32mIn[20], line 1\u001b[0m\n\u001b[1;32m----> 1\u001b[0m \u001b[38;5;241m5\u001b[39m\u001b[38;5;241m/\u001b[39m\u001b[38;5;241m0\u001b[39m\n",
      "\u001b[1;31mZeroDivisionError\u001b[0m: division by zero"
     ]
    }
   ],
   "source": [
    "5/0"
   ]
  },
  {
   "cell_type": "code",
   "execution_count": 36,
   "id": "7657baac-e89d-4225-ba66-aaa1967a1a99",
   "metadata": {},
   "outputs": [
    {
     "name": "stdin",
     "output_type": "stream",
     "text": [
      " 0\n"
     ]
    },
    {
     "name": "stdout",
     "output_type": "stream",
     "text": [
      "division by zero\n",
      "close connection\n"
     ]
    }
   ],
   "source": [
    "try:\n",
    "    a = 500\n",
    "    b = int(input())\n",
    "    c = a/b\n",
    "    print(c)\n",
    "except ValueError as v:\n",
    "    print(v)\n",
    "except ZeroDivisionError as z:\n",
    "    print(z)\n",
    "except :\n",
    "    print(\"check something\")\n",
    "else:\n",
    "    print('everything worked fine')\n",
    "finally:\n",
    "    print(\"close connection\")"
   ]
  },
  {
   "cell_type": "code",
   "execution_count": 32,
   "id": "e5e20be2-fef9-4b58-b529-1ae2a27239e7",
   "metadata": {},
   "outputs": [
    {
     "ename": "ValueError",
     "evalue": "invalid literal for int() with base 10: 'shubham'",
     "output_type": "error",
     "traceback": [
      "\u001b[1;31m---------------------------------------------------------------------------\u001b[0m",
      "\u001b[1;31mValueError\u001b[0m                                Traceback (most recent call last)",
      "Cell \u001b[1;32mIn[32], line 1\u001b[0m\n\u001b[1;32m----> 1\u001b[0m \u001b[38;5;28mint\u001b[39m(\u001b[38;5;124m\"\u001b[39m\u001b[38;5;124mshubham\u001b[39m\u001b[38;5;124m\"\u001b[39m)\n",
      "\u001b[1;31mValueError\u001b[0m: invalid literal for int() with base 10: 'shubham'"
     ]
    }
   ],
   "source": [
    "int(\"shubham\")"
   ]
  },
  {
   "cell_type": "code",
   "execution_count": null,
   "id": "9f5135c6-ed21-44cd-a59b-98fb166a7326",
   "metadata": {},
   "outputs": [],
   "source": []
  }
 ],
 "metadata": {
  "kernelspec": {
   "display_name": "Python 3 (ipykernel)",
   "language": "python",
   "name": "python3"
  },
  "language_info": {
   "codemirror_mode": {
    "name": "ipython",
    "version": 3
   },
   "file_extension": ".py",
   "mimetype": "text/x-python",
   "name": "python",
   "nbconvert_exporter": "python",
   "pygments_lexer": "ipython3",
   "version": "3.12.7"
  }
 },
 "nbformat": 4,
 "nbformat_minor": 5
}

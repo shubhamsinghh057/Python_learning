{
 "cells": [
  {
   "cell_type": "markdown",
   "id": "1699c0ea-2da3-4a75-960a-9db6bb72cf87",
   "metadata": {},
   "source": [
    "# Recursion"
   ]
  },
  {
   "cell_type": "markdown",
   "id": "c841019a-16b8-4cdb-b0c5-8f0be6e2b467",
   "metadata": {},
   "source": [
    "#### When we call a funciton in itself\n",
    "\n",
    "1. We call a function in itself\n",
    "2. we asume the second call will give a correct output \n",
    "3. it must have a terminating condition\n"
   ]
  },
  {
   "cell_type": "code",
   "execution_count": 25,
   "id": "a0c384fe-3269-4ba0-a461-f3e899994fd8",
   "metadata": {},
   "outputs": [],
   "source": [
    "def factorial(n):\n",
    "    if n == 0:\n",
    "        return 1\n",
    "    return n * factorial(n-1)"
   ]
  },
  {
   "cell_type": "code",
   "execution_count": 26,
   "id": "4e0b2411-be5b-4086-b9d4-62e6ecaeb4be",
   "metadata": {},
   "outputs": [
    {
     "data": {
      "text/plain": [
       "120"
      ]
     },
     "execution_count": 26,
     "metadata": {},
     "output_type": "execute_result"
    }
   ],
   "source": [
    "factorial(5)"
   ]
  },
  {
   "cell_type": "code",
   "execution_count": 27,
   "id": "31934566-7fdf-449b-a920-ee1f9da27286",
   "metadata": {},
   "outputs": [],
   "source": [
    "L = [4,5,7,9,4,3,1,6]"
   ]
  },
  {
   "cell_type": "code",
   "execution_count": 37,
   "id": "9dd9d144-a948-44da-a211-e23337ae530c",
   "metadata": {},
   "outputs": [],
   "source": [
    "def addList(L):\n",
    "    print(L)\n",
    "    if len(L)==0:\n",
    "        return 0\n",
    "    return L[0] + addList(L[1:])"
   ]
  },
  {
   "cell_type": "code",
   "execution_count": 39,
   "id": "3206fce8-d3c5-44b4-b35c-7d1f408cbe57",
   "metadata": {},
   "outputs": [],
   "source": [
    "L = [5,4,3,2,1]"
   ]
  },
  {
   "cell_type": "code",
   "execution_count": 40,
   "id": "9e049802-0a72-45ee-83f9-969041c3d1bc",
   "metadata": {},
   "outputs": [
    {
     "name": "stdout",
     "output_type": "stream",
     "text": [
      "[5, 4, 3, 2, 1]\n",
      "[4, 3, 2, 1]\n",
      "[3, 2, 1]\n",
      "[2, 1]\n",
      "[1]\n",
      "[]\n"
     ]
    },
    {
     "data": {
      "text/plain": [
       "15"
      ]
     },
     "execution_count": 40,
     "metadata": {},
     "output_type": "execute_result"
    }
   ],
   "source": [
    "addList(L)"
   ]
  },
  {
   "cell_type": "code",
   "execution_count": 43,
   "id": "dfa0d09d-e792-4bc3-9f9b-dc3206680a7b",
   "metadata": {},
   "outputs": [
    {
     "data": {
      "text/plain": [
       "True"
      ]
     },
     "execution_count": 43,
     "metadata": {},
     "output_type": "execute_result"
    }
   ],
   "source": [
    "type(5) is int"
   ]
  },
  {
   "cell_type": "code",
   "execution_count": 56,
   "id": "4a671336-29de-4f6c-aa1d-c68a86aa5c62",
   "metadata": {},
   "outputs": [],
   "source": [
    "def addList(L):\n",
    "    print(L)\n",
    "    if type(L) is int:\n",
    "        return L\n",
    "    elif len(L)==0:\n",
    "        return 0\n",
    "    abc =  addList(L[0]) + addList(L[1:])\n",
    "    return abc"
   ]
  },
  {
   "cell_type": "code",
   "execution_count": 57,
   "id": "e20e7b68-e929-4322-b0b3-6a719fe8c278",
   "metadata": {
    "scrolled": true
   },
   "outputs": [
    {
     "name": "stdout",
     "output_type": "stream",
     "text": [
      "[1, 2, [9, 6, 4, 2], 7, 5, 6, 3]\n",
      "1\n",
      "[2, [9, 6, 4, 2], 7, 5, 6, 3]\n",
      "2\n",
      "[[9, 6, 4, 2], 7, 5, 6, 3]\n",
      "[9, 6, 4, 2]\n",
      "9\n",
      "[6, 4, 2]\n",
      "6\n",
      "[4, 2]\n",
      "4\n",
      "[2]\n",
      "2\n",
      "[]\n",
      "[7, 5, 6, 3]\n",
      "7\n",
      "[5, 6, 3]\n",
      "5\n",
      "[6, 3]\n",
      "6\n",
      "[3]\n",
      "3\n",
      "[]\n"
     ]
    },
    {
     "data": {
      "text/plain": [
       "45"
      ]
     },
     "execution_count": 57,
     "metadata": {},
     "output_type": "execute_result"
    }
   ],
   "source": [
    "addList([1,2,[9,6,4,2],7,5,6,3])"
   ]
  },
  {
   "cell_type": "code",
   "execution_count": null,
   "id": "ea64dfb3-bb08-4ad6-a254-032ad0279a73",
   "metadata": {},
   "outputs": [],
   "source": []
  }
 ],
 "metadata": {
  "kernelspec": {
   "display_name": "Python 3 (ipykernel)",
   "language": "python",
   "name": "python3"
  },
  "language_info": {
   "codemirror_mode": {
    "name": "ipython",
    "version": 3
   },
   "file_extension": ".py",
   "mimetype": "text/x-python",
   "name": "python",
   "nbconvert_exporter": "python",
   "pygments_lexer": "ipython3",
   "version": "3.12.7"
  }
 },
 "nbformat": 4,
 "nbformat_minor": 5
}

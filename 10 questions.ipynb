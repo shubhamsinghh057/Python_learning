{
 "cells": [
  {
   "cell_type": "code",
   "execution_count": 3,
   "id": "bc62db3b-d83a-4f79-b0e7-b717dd4d9f55",
   "metadata": {},
   "outputs": [
    {
     "name": "stdout",
     "output_type": "stream",
     "text": [
      "A\n",
      "A\n",
      "A\n",
      "A\n",
      "A\n"
     ]
    }
   ],
   "source": [
    "i = 0\n",
    "n = 5\n",
    "while i < n:\n",
    "    print(\"A\")\n",
    "    i += 1"
   ]
  },
  {
   "cell_type": "code",
   "execution_count": 5,
   "id": "545a11bc-898a-4575-924c-9d6e399151f5",
   "metadata": {},
   "outputs": [],
   "source": [
    "name = \"shubham\""
   ]
  },
  {
   "cell_type": "code",
   "execution_count": 7,
   "id": "8bc09baa-e609-4f41-9963-d00a9f77fd6a",
   "metadata": {},
   "outputs": [
    {
     "data": {
      "text/plain": [
       "7"
      ]
     },
     "execution_count": 7,
     "metadata": {},
     "output_type": "execute_result"
    }
   ],
   "source": [
    "len(name)"
   ]
  },
  {
   "cell_type": "code",
   "execution_count": 16,
   "id": "afb7ed24-aa8c-4f8f-866e-1f5156693ee4",
   "metadata": {},
   "outputs": [
    {
     "data": {
      "text/plain": [
       "'m'"
      ]
     },
     "execution_count": 16,
     "metadata": {},
     "output_type": "execute_result"
    }
   ],
   "source": [
    "name[6]"
   ]
  },
  {
   "cell_type": "code",
   "execution_count": 21,
   "id": "90fcdd7a-10d8-4ff2-8fdc-e1d9d88e9b93",
   "metadata": {},
   "outputs": [
    {
     "name": "stdout",
     "output_type": "stream",
     "text": [
      "S\n",
      "h\n",
      "u\n",
      "b\n",
      "h\n",
      "a\n",
      "m\n"
     ]
    }
   ],
   "source": [
    "name = \"Shubham\"\n",
    "i = 0\n",
    "n = len(name)\n",
    "while i < n:\n",
    "    print(name[i])\n",
    "    i += 1"
   ]
  },
  {
   "cell_type": "code",
   "execution_count": 22,
   "id": "4d24421b-395e-4c59-9d69-5d8b7869e8aa",
   "metadata": {},
   "outputs": [],
   "source": [
    "d = {\"name\": \"shubham\", \"age\": 24, \"education\": \"b.tech\"}"
   ]
  },
  {
   "cell_type": "code",
   "execution_count": 29,
   "id": "7f301e09-620d-45f9-b698-9730e1a76182",
   "metadata": {},
   "outputs": [
    {
     "data": {
      "text/plain": [
       "'name'"
      ]
     },
     "execution_count": 29,
     "metadata": {},
     "output_type": "execute_result"
    }
   ],
   "source": [
    "[0]"
   ]
  },
  {
   "cell_type": "code",
   "execution_count": 6,
   "id": "1b006772-6f4b-4a84-b910-bb4cf653f828",
   "metadata": {},
   "outputs": [
    {
     "name": "stdout",
     "output_type": "stream",
     "text": [
      "shubham\n",
      "24\n",
      "b.tech\n"
     ]
    }
   ],
   "source": [
    "d = {\"name\": \"shubham\", \"age\": 24, \"education\": \"b.tech\"}\n",
    "i = 0\n",
    "n = len(d)\n",
    "k = list(d.values())\n",
    "\n",
    "while i  < n:\n",
    "    value = k[i]\n",
    "    print(value)\n",
    "    i += 1"
   ]
  },
  {
   "cell_type": "code",
   "execution_count": 22,
   "id": "9b922475-7666-4b61-8c77-90203e138fad",
   "metadata": {},
   "outputs": [],
   "source": [
    "l = [5,4,3,6,9,2,5,8,]"
   ]
  },
  {
   "cell_type": "code",
   "execution_count": 23,
   "id": "6e43ebda-ecc0-4c84-894a-5db88d4fb470",
   "metadata": {},
   "outputs": [
    {
     "data": {
      "text/plain": [
       "[5, 4, 3, 6, 9, 2, 5, 8]"
      ]
     },
     "execution_count": 23,
     "metadata": {},
     "output_type": "execute_result"
    }
   ],
   "source": [
    "l"
   ]
  },
  {
   "cell_type": "code",
   "execution_count": 26,
   "id": "b3008be2-c75d-467b-9f74-742456bdc5c9",
   "metadata": {},
   "outputs": [
    {
     "name": "stdout",
     "output_type": "stream",
     "text": [
      "4 9\n"
     ]
    }
   ],
   "source": [
    "i = 0\n",
    "n = len(l)\n",
    "a  = 0\n",
    "while i <  n:\n",
    "    #print(a, l[a], i, l[i])\n",
    "    if l[i]> l[a]:\n",
    "        a = i\n",
    "    i += 1\n",
    "print(a, l[a])"
   ]
  },
  {
   "cell_type": "code",
   "execution_count": 27,
   "id": "9192ca7b-d73c-437a-8b62-9aa5615bce07",
   "metadata": {},
   "outputs": [
    {
     "data": {
      "text/plain": [
       "[5, 4, 3, 6, 9, 2, 5, 8]"
      ]
     },
     "execution_count": 27,
     "metadata": {},
     "output_type": "execute_result"
    }
   ],
   "source": [
    "l"
   ]
  },
  {
   "cell_type": "code",
   "execution_count": 31,
   "id": "cd9343b6-6f7c-41e8-9a0c-b095cfcf59ed",
   "metadata": {},
   "outputs": [
    {
     "name": "stdout",
     "output_type": "stream",
     "text": [
      "5 5\n",
      "4 9\n",
      "3 12\n",
      "6 18\n",
      "9 27\n",
      "2 29\n",
      "5 34\n",
      "8 42\n",
      "42\n"
     ]
    }
   ],
   "source": [
    "a = 0\n",
    "i = 0\n",
    "n = len(l)\n",
    "while i < n:\n",
    "    a += l[i]\n",
    "    print(l[i], a)\n",
    "    i += 1\n",
    "print(a)"
   ]
  },
  {
   "cell_type": "code",
   "execution_count": 32,
   "id": "fe4f2d48-3d13-4cd8-a588-8255128d1ac5",
   "metadata": {},
   "outputs": [
    {
     "data": {
      "text/plain": [
       "[5, 4, 3, 6, 9, 2, 5, 8]"
      ]
     },
     "execution_count": 32,
     "metadata": {},
     "output_type": "execute_result"
    }
   ],
   "source": [
    "l"
   ]
  },
  {
   "cell_type": "code",
   "execution_count": 33,
   "id": "7eb04daf-fb68-464c-a61b-9966f58d8ed9",
   "metadata": {},
   "outputs": [],
   "source": [
    "l.sort()"
   ]
  },
  {
   "cell_type": "code",
   "execution_count": 43,
   "id": "8ce51027-4fd1-4d18-8b5a-4844df2463fb",
   "metadata": {},
   "outputs": [
    {
     "data": {
      "text/plain": [
       "[2, 3, 4, 5, 5, 6, 8, 9]"
      ]
     },
     "execution_count": 43,
     "metadata": {},
     "output_type": "execute_result"
    }
   ],
   "source": [
    "l"
   ]
  },
  {
   "cell_type": "code",
   "execution_count": 40,
   "id": "b7e8cddc-3deb-4d58-b804-96231183a2ff",
   "metadata": {},
   "outputs": [
    {
     "data": {
      "text/plain": [
       "4"
      ]
     },
     "execution_count": 40,
     "metadata": {},
     "output_type": "execute_result"
    }
   ],
   "source": [
    "len(l)//2"
   ]
  },
  {
   "cell_type": "code",
   "execution_count": 42,
   "id": "46e9ada5-86d5-44a4-9578-1b1c58e0ffe0",
   "metadata": {},
   "outputs": [
    {
     "data": {
      "text/plain": [
       "5"
      ]
     },
     "execution_count": 42,
     "metadata": {},
     "output_type": "execute_result"
    }
   ],
   "source": [
    "l[len(l)//2]"
   ]
  },
  {
   "cell_type": "code",
   "execution_count": 64,
   "id": "74a428ae-34e5-45fa-b05e-88e8c4fe4572",
   "metadata": {},
   "outputs": [
    {
     "name": "stdout",
     "output_type": "stream",
     "text": [
      "5 is a prime number\n"
     ]
    }
   ],
   "source": [
    "n = 5\n",
    "prime = True\n",
    "i = 2\n",
    "while i < n:\n",
    "    #print(i)\n",
    "    if n % i == 0:\n",
    "        prime = False\n",
    "        break\n",
    "    i += 1\n",
    "\n",
    "if prime:\n",
    "    print(f\"{n} is a prime number\")\n",
    "else:\n",
    "    print(f\"{n} is a not prime number\")"
   ]
  },
  {
   "cell_type": "code",
   "execution_count": null,
   "id": "fcaab517-ed0d-438b-a6a9-17f8190ef117",
   "metadata": {},
   "outputs": [],
   "source": []
  },
  {
   "cell_type": "code",
   "execution_count": null,
   "id": "a63d0cee-dd25-49bf-b2dd-906583d9cb53",
   "metadata": {},
   "outputs": [],
   "source": []
  },
  {
   "cell_type": "code",
   "execution_count": null,
   "id": "638c8d44-87a0-436d-975a-c943c21f8ffc",
   "metadata": {},
   "outputs": [],
   "source": []
  },
  {
   "cell_type": "code",
   "execution_count": 25,
   "id": "45a2f4bf-18f1-4911-a5b3-77c008964e5f",
   "metadata": {},
   "outputs": [
    {
     "name": "stdout",
     "output_type": "stream",
     "text": [
      "[1, 24, 2, 12, 3, 8, 4, 6]\n"
     ]
    }
   ],
   "source": [
    "i = 1\n",
    "n = 24\n",
    "l = []\n",
    "while i <= n**(1/2):\n",
    "    if n % i == 0:\n",
    "        l.append(i)\n",
    "        l.append(n//i)\n",
    "    i += 1\n",
    "\n",
    "print(l)\n",
    "if len(l)==2:\n",
    "    print(n , 'is a prime number')"
   ]
  },
  {
   "cell_type": "code",
   "execution_count": 22,
   "id": "86b9ec79-358b-44a6-8e1c-22c4384bb87c",
   "metadata": {},
   "outputs": [
    {
     "name": "stdout",
     "output_type": "stream",
     "text": [
      "10 9\n"
     ]
    }
   ],
   "source": [
    "a = [2,5,6,9,4,3,7,10,8]\n",
    "l = a[0]\n",
    "s = a[0]\n",
    "i = 0\n",
    "n = len(a)\n",
    "while i < n:\n",
    "    #print(i)\n",
    "    #print(a[i],l, s)\n",
    "    if a[i] > l:\n",
    "        s = l\n",
    "        l = a[i]\n",
    "\n",
    "    elif a[i]>s:\n",
    "        s = a[i]\n",
    "   \n",
    "    i += 1\n",
    "print(l, s)"
   ]
  },
  {
   "cell_type": "code",
   "execution_count": 40,
   "id": "e4e1e042-c823-4a84-af45-538cdbc738b7",
   "metadata": {},
   "outputs": [
    {
     "name": "stdout",
     "output_type": "stream",
     "text": [
      "01234\n",
      "01234\n",
      "01234\n",
      "01234\n",
      "01234\n"
     ]
    }
   ],
   "source": [
    "i = 0\n",
    "n = 5\n",
    "while i < n:\n",
    "    j = 0\n",
    "    m = 5\n",
    "    while j < m:\n",
    "        print(j, end=\"\")\n",
    "        j += 1\n",
    "    print()\n",
    "    i += 1"
   ]
  },
  {
   "cell_type": "code",
   "execution_count": 52,
   "id": "0d749a9a-187f-466a-bcc8-ef1efbde82e2",
   "metadata": {},
   "outputs": [
    {
     "name": "stdout",
     "output_type": "stream",
     "text": [
      "0 Shubham\n",
      "0 S\n",
      "1 h\n",
      "2 u\n",
      "3 b\n",
      "4 h\n",
      "5 a\n",
      "6 m\n",
      "1 akash\n",
      "0 a\n",
      "1 k\n",
      "2 a\n",
      "3 s\n",
      "4 h\n",
      "2 abhi\n",
      "0 a\n",
      "1 b\n",
      "2 h\n",
      "3 i\n"
     ]
    }
   ],
   "source": [
    "l = [\"Shubham\", \"akash\", \"abhi\"]\n",
    "i = 0\n",
    "n = len(l)\n",
    "while i < n:\n",
    "    print(i, l[i])\n",
    "    j = 0\n",
    "    m = len(l[i])\n",
    "    while j < m:\n",
    "        print(j, l[i][j])\n",
    "        j += 1\n",
    "    \n",
    "    i += 1"
   ]
  },
  {
   "cell_type": "code",
   "execution_count": null,
   "id": "87173301-f017-4dfa-aa14-8a6f49842ddb",
   "metadata": {},
   "outputs": [],
   "source": [
    "li = [5,5,4,9,9,6,4,5,7,5,6,6,2,1]"
   ]
  }
 ],
 "metadata": {
  "kernelspec": {
   "display_name": "Python 3 (ipykernel)",
   "language": "python",
   "name": "python3"
  },
  "language_info": {
   "codemirror_mode": {
    "name": "ipython",
    "version": 3
   },
   "file_extension": ".py",
   "mimetype": "text/x-python",
   "name": "python",
   "nbconvert_exporter": "python",
   "pygments_lexer": "ipython3",
   "version": "3.12.7"
  }
 },
 "nbformat": 4,
 "nbformat_minor": 5
}

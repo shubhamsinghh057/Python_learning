{
 "cells": [
  {
   "cell_type": "markdown",
   "id": "92c1be68-334b-4b31-8f7c-e97eead665e0",
   "metadata": {},
   "source": [
    "# While loop"
   ]
  },
  {
   "cell_type": "markdown",
   "id": "bdf39103-ca86-40fe-8390-79437dd438de",
   "metadata": {},
   "source": [
    "#### repeating a task again and again untill certain criteria is sertisfied"
   ]
  },
  {
   "cell_type": "code",
   "execution_count": null,
   "id": "bba38ca6-32dd-4038-bf5d-2e11b2a0ca7f",
   "metadata": {
    "scrolled": true
   },
   "outputs": [],
   "source": []
  },
  {
   "cell_type": "code",
   "execution_count": 43,
   "id": "7a4bc6f4-2fc3-4f8a-93ac-7041096575a6",
   "metadata": {},
   "outputs": [
    {
     "name": "stdout",
     "output_type": "stream",
     "text": [
      "hi\n",
      "hello\n",
      "shubham\n"
     ]
    }
   ],
   "source": [
    "# starting an infinite while loop\n",
    "while True:\n",
    "    print(\"hi\")\n",
    "    print(\"hello\")\n",
    "    # exiting a loop\n",
    "    break\n",
    "    print(\"bye\")\n",
    "\n",
    "# printing a value after while loop\n",
    "print(\"shubham\")"
   ]
  },
  {
   "cell_type": "code",
   "execution_count": 44,
   "id": "4a661587-932c-425e-8434-26889f3c9caa",
   "metadata": {},
   "outputs": [
    {
     "name": "stdout",
     "output_type": "stream",
     "text": [
      "1\n",
      "2\n",
      "3\n",
      "4\n"
     ]
    }
   ],
   "source": [
    "# starting a number\n",
    "i = 1\n",
    "\n",
    "# starting an infinite while loop\n",
    "while True:\n",
    "    # printing i \n",
    "    print(i)\n",
    "\n",
    "    # incresing i\n",
    "    i += 1\n",
    "\n",
    "    # checking if i has reached value 5\n",
    "    if i == 5:\n",
    "        # breaking out of the loop\n",
    "        break\n",
    "        "
   ]
  },
  {
   "cell_type": "code",
   "execution_count": 45,
   "id": "13912fcd-22a3-4bd6-abd1-fec8de69fbd1",
   "metadata": {},
   "outputs": [
    {
     "name": "stdout",
     "output_type": "stream",
     "text": [
      "0\n",
      "1\n",
      "2\n"
     ]
    }
   ],
   "source": [
    "# starting a number\n",
    "i = 0\n",
    "\n",
    "# starting a while loop for i < 3 - 0,1,2\n",
    "while i < 3:\n",
    "    # printing values of i\n",
    "    print(i)\n",
    "\n",
    "    # incresing i till it reaches 3 \n",
    "    i += 1"
   ]
  },
  {
   "cell_type": "code",
   "execution_count": 46,
   "id": "35352ffa-24c0-46c5-ac98-c2755d014e99",
   "metadata": {},
   "outputs": [
    {
     "name": "stdout",
     "output_type": "stream",
     "text": [
      "7 X 1 = 7\n",
      "7 X 2 = 14\n",
      "7 X 3 = 21\n",
      "7 X 4 = 28\n",
      "7 X 5 = 35\n",
      "7 X 6 = 42\n",
      "7 X 7 = 49\n",
      "7 X 8 = 56\n",
      "7 X 9 = 63\n",
      "7 X 10 = 70\n"
     ]
    }
   ],
   "source": [
    "# starting number\n",
    "i = 1\n",
    "# ending number\n",
    "n = 11\n",
    "\n",
    "# while loop till i reaches n\n",
    "while i < n:\n",
    "\n",
    "    # printing a table\n",
    "    print(7, \"X\", i, \"=\", i*7)\n",
    "    # incrementing a value of i\n",
    "    i += 1"
   ]
  },
  {
   "cell_type": "code",
   "execution_count": 48,
   "id": "a8f380b2-99d5-48b0-9b58-5ccef9e2f43d",
   "metadata": {},
   "outputs": [
    {
     "name": "stdout",
     "output_type": "stream",
     "text": [
      "4\n",
      "4\n",
      "4\n",
      "4\n"
     ]
    }
   ],
   "source": [
    "i = 0\n",
    "n = 4\n",
    "while i < n:\n",
    "    print(n)\n",
    "    i += 1"
   ]
  },
  {
   "cell_type": "code",
   "execution_count": 49,
   "id": "07c8b8d0-18f9-4bbf-988d-ad1286032488",
   "metadata": {},
   "outputs": [
    {
     "name": "stdout",
     "output_type": "stream",
     "text": [
      "21\n"
     ]
    }
   ],
   "source": [
    "# sum of n natural numbers\n",
    "i = 0\n",
    "n = 7\n",
    "a = 0\n",
    "while i < n:\n",
    "    a += i\n",
    "    i += 1\n",
    "print(a)"
   ]
  },
  {
   "cell_type": "code",
   "execution_count": 50,
   "id": "dca34a4b-d4a2-448c-802c-45c6b7e9bbf2",
   "metadata": {},
   "outputs": [
    {
     "name": "stdout",
     "output_type": "stream",
     "text": [
      "3825\n"
     ]
    }
   ],
   "source": [
    "# sum of numbers in a range\n",
    "i = 50\n",
    "n = 101\n",
    "a = 0\n",
    "while i < n:\n",
    "    a += i\n",
    "    i += 1\n",
    "print(a)"
   ]
  },
  {
   "cell_type": "code",
   "execution_count": 52,
   "id": "34ab77a1-ad35-423a-9e98-2b7c33480278",
   "metadata": {},
   "outputs": [],
   "source": [
    "name = \"Shubham\""
   ]
  },
  {
   "cell_type": "code",
   "execution_count": 53,
   "id": "f44fc128-3be9-4042-b60b-4602c5ebbb43",
   "metadata": {},
   "outputs": [
    {
     "data": {
      "text/plain": [
       "'Shubham'"
      ]
     },
     "execution_count": 53,
     "metadata": {},
     "output_type": "execute_result"
    }
   ],
   "source": [
    "name"
   ]
  },
  {
   "cell_type": "code",
   "execution_count": 60,
   "id": "e0683149-d3bb-4f12-b852-81f22e0cffae",
   "metadata": {},
   "outputs": [
    {
     "data": {
      "text/plain": [
       "7"
      ]
     },
     "execution_count": 60,
     "metadata": {},
     "output_type": "execute_result"
    }
   ],
   "source": [
    "name = \"Shubham\"\n",
    "len(name)"
   ]
  },
  {
   "cell_type": "code",
   "execution_count": 79,
   "id": "f5122113-f1af-4067-a2bd-6b88aaf4fdc8",
   "metadata": {},
   "outputs": [
    {
     "name": "stdout",
     "output_type": "stream",
     "text": [
      "S\n",
      "h\n",
      "u\n",
      "b\n",
      "h\n",
      "a\n",
      "m\n"
     ]
    }
   ],
   "source": [
    "name = \"Shubham\"\n",
    "i = 0\n",
    "n = len(name)\n",
    "while i < n:\n",
    "    print( name[i])\n",
    "    i += 1"
   ]
  },
  {
   "cell_type": "code",
   "execution_count": 83,
   "id": "7d08454f-0e8b-4f2f-be6e-f1a619c2340d",
   "metadata": {},
   "outputs": [
    {
     "name": "stdout",
     "output_type": "stream",
     "text": [
      "50\n"
     ]
    }
   ],
   "source": [
    "li = [8,4,6,1,2,3,5,7,9,5]\n",
    "i = 0\n",
    "n = len(li)\n",
    "total = 0\n",
    "while i < n:\n",
    "    total += li[i]\n",
    "    i += 1\n",
    "print(total)"
   ]
  },
  {
   "cell_type": "code",
   "execution_count": null,
   "id": "bcc5e14d-5c08-4c73-9949-bcbe3925f16c",
   "metadata": {},
   "outputs": [],
   "source": []
  }
 ],
 "metadata": {
  "kernelspec": {
   "display_name": "Python 3 (ipykernel)",
   "language": "python",
   "name": "python3"
  },
  "language_info": {
   "codemirror_mode": {
    "name": "ipython",
    "version": 3
   },
   "file_extension": ".py",
   "mimetype": "text/x-python",
   "name": "python",
   "nbconvert_exporter": "python",
   "pygments_lexer": "ipython3",
   "version": "3.12.7"
  }
 },
 "nbformat": 4,
 "nbformat_minor": 5
}
